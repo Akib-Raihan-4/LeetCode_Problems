{
 "cells": [
  {
   "cell_type": "markdown",
   "metadata": {},
   "source": [
    "## 1. Two Sum\n",
    "Given an array of integers nums and an integer target, return indices of the two numbers such that they add up to target.\n",
    "\n",
    "You may assume that each input would have exactly one solution, and you may not use the same element twice.<br>\n",
    "\n",
    "You can return the answer in any order. <br>\n",
    "\n",
    " \n",
    "\n",
    "Example 1:<br>\n",
    "\n",
    "Input: nums = [2,7,11,15], target = 9<br>\n",
    "Output: [0,1]<br>\n",
    "Explanation: Because nums[0] + nums[1] == 9, we return [0, 1].<br>\n",
    "Example 2:<br>\n",
    "\n",
    "Input: nums = [3,2,4], target = 6<br>\n",
    "Output: [1,2]<br>\n",
    "Example 3:<br>\n",
    "\n",
    "Input: nums = [3,3], target = 6<br>\n",
    "Output: [0,1]<br>\n",
    " \n",
    "\n",
    "Constraints:<br>\n",
    "\n",
    "2 <= nums.length <= 104<br>\n",
    "-109 <= nums[i] <= 109<br>\n",
    "-109 <= target <= 109<br>\n",
    "Only one valid answer exists.<br>"
   ]
  },
  {
   "cell_type": "code",
   "execution_count": 31,
   "metadata": {},
   "outputs": [],
   "source": [
    "def twoSum(nums, target):\n",
    "    dic = {}\n",
    "    for i in range(len(nums)):\n",
    "        diff = target - nums[i]\n",
    "        if diff in dic:\n",
    "            return dic[diff], i\n",
    "        dic[nums[i]] = i\n",
    "    return"
   ]
  },
  {
   "cell_type": "code",
   "execution_count": 34,
   "metadata": {},
   "outputs": [
    {
     "data": {
      "text/plain": [
       "(1, 2)"
      ]
     },
     "execution_count": 34,
     "metadata": {},
     "output_type": "execute_result"
    }
   ],
   "source": [
    "nums = [3,2,4]\n",
    "target = 6\n",
    "twoSum(nums, target)\n"
   ]
  },
  {
   "cell_type": "code",
   "execution_count": null,
   "metadata": {},
   "outputs": [],
   "source": []
  }
 ],
 "metadata": {
  "kernelspec": {
   "display_name": "Python 3",
   "language": "python",
   "name": "python3"
  },
  "language_info": {
   "codemirror_mode": {
    "name": "ipython",
    "version": 3
   },
   "file_extension": ".py",
   "mimetype": "text/x-python",
   "name": "python",
   "nbconvert_exporter": "python",
   "pygments_lexer": "ipython3",
   "version": "3.11.4"
  }
 },
 "nbformat": 4,
 "nbformat_minor": 2
}
