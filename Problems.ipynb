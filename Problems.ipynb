{
 "cells": [
  {
   "cell_type": "markdown",
   "metadata": {},
   "source": [
    "## 1. Two Sum\n",
    "Given an array of integers nums and an integer target, return indices of the two numbers such that they add up to target.\n",
    "\n",
    "You may assume that each input would have exactly one solution, and you may not use the same element twice.<br>\n",
    "\n",
    "You can return the answer in any order. <br>\n",
    "\n",
    " \n",
    "\n",
    "Example 1:<br>\n",
    "\n",
    "Input: nums = [2,7,11,15], target = 9<br>\n",
    "Output: [0,1]<br>\n",
    "Explanation: Because nums[0] + nums[1] == 9, we return [0, 1].<br>\n",
    "Example 2:<br>\n",
    "\n",
    "Input: nums = [3,2,4], target = 6<br>\n",
    "Output: [1,2]<br>\n",
    "Example 3:<br>\n",
    "\n",
    "Input: nums = [3,3], target = 6<br>\n",
    "Output: [0,1]<br>\n",
    " \n",
    "\n",
    "Constraints:<br>\n",
    "\n",
    "2 <= nums.length <= 104<br>\n",
    "-109 <= nums[i] <= 109<br>\n",
    "-109 <= target <= 109<br>\n",
    "Only one valid answer exists.<br>"
   ]
  },
  {
   "cell_type": "code",
   "execution_count": 31,
   "metadata": {},
   "outputs": [],
   "source": [
    "def twoSum(nums, target):\n",
    "    dic = {}\n",
    "    for i in range(len(nums)):\n",
    "        diff = target - nums[i]\n",
    "        if diff in dic:\n",
    "            return dic[diff], i\n",
    "        dic[nums[i]] = i\n",
    "    return"
   ]
  },
  {
   "cell_type": "code",
   "execution_count": 34,
   "metadata": {},
   "outputs": [
    {
     "data": {
      "text/plain": [
       "(1, 2)"
      ]
     },
     "execution_count": 34,
     "metadata": {},
     "output_type": "execute_result"
    }
   ],
   "source": [
    "nums = [3,2,4]\n",
    "target = 6\n",
    "twoSum(nums, target)\n"
   ]
  },
  {
   "cell_type": "markdown",
   "metadata": {},
   "source": [
    "## 2. Longest Substring Without Repeating Characters\n",
    "\n",
    "<div class=\"xFUwe\" data-track-load=\"description_content\"><p>Given a string <code>s</code>, find the length of the <strong>longest</strong> <span data-keyword=\"substring-nonempty\" class=\" cursor-pointer relative text-dark-blue-s text-sm\"><div class=\"popover-wrapper inline-block\" data-headlessui-state=\"\"><div><div aria-expanded=\"false\" data-headlessui-state=\"\" id=\"headlessui-popover-button-:r2u:\"><div><strong>substring</strong></div></div><div style=\"position: fixed; z-index: 40; inset: 0px auto auto 0px; transform: translate(356px, 221px);\"></div></div></div></span> without repeating characters.</p>\n",
    "\n",
    "<p>&nbsp;</p>\n",
    "<p><strong class=\"example\">Example 1:</strong></p>\n",
    "\n",
    "<pre><strong>Input:</strong> s = \"abcabcbb\"\n",
    "<strong>Output:</strong> 3\n",
    "<strong>Explanation:</strong> The answer is \"abc\", with the length of 3.\n",
    "</pre>\n",
    "\n",
    "<p><strong class=\"example\">Example 2:</strong></p>\n",
    "\n",
    "<pre><strong>Input:</strong> s = \"bbbbb\"\n",
    "<strong>Output:</strong> 1\n",
    "<strong>Explanation:</strong> The answer is \"b\", with the length of 1.\n",
    "</pre>\n",
    "\n",
    "<p><strong class=\"example\">Example 3:</strong></p>\n",
    "\n",
    "<pre><strong>Input:</strong> s = \"pwwkew\"\n",
    "<strong>Output:</strong> 3\n",
    "<strong>Explanation:</strong> The answer is \"wke\", with the length of 3.\n",
    "Notice that the answer must be a substring, \"pwke\" is a subsequence and not a substring.\n",
    "</pre>\n",
    "\n",
    "<p>&nbsp;</p>\n",
    "<p><strong>Constraints:</strong></p>\n",
    "\n",
    "<ul>\n",
    "\t<li><code>0 &lt;= s.length &lt;= 5 * 10<sup>4</sup></code></li>\n",
    "\t<li><code>s</code> consists of English letters, digits, symbols and spaces.</li>\n",
    "</ul>\n",
    "</div>"
   ]
  },
  {
   "cell_type": "code",
   "execution_count": 70,
   "metadata": {},
   "outputs": [],
   "source": [
    "def lengthOfLongestSubstring(s):\n",
    "    if len(s):\n",
    "        longSub = [s[0]]\n",
    "        for i in range(len(s)-1):\n",
    "            subS = []\n",
    "            subS.append(s[i])\n",
    "            for j in range(i + 1, len(s)):\n",
    "                if s[j] in subS:\n",
    "                    break\n",
    "                subS.append(s[j])\n",
    "            if(len(longSub) < len(subS)):\n",
    "                longSub = subS\n",
    "        return len(longSub)\n",
    "    else:\n",
    "        return 0\n",
    "            "
   ]
  },
  {
   "cell_type": "code",
   "execution_count": 73,
   "metadata": {},
   "outputs": [
    {
     "name": "stdout",
     "output_type": "stream",
     "text": [
      "1\n"
     ]
    }
   ],
   "source": [
    "s = \" \"\n",
    "print(lengthOfLongestSubstring(s))"
   ]
  },
  {
   "cell_type": "markdown",
   "metadata": {},
   "source": [
    "## 3. Longest Palindromic String\n",
    "\n",
    "<div class=\"px-5 pt-4\"><div class=\"flex\"></div><div class=\"xFUwe\" data-track-load=\"description_content\"><p>Given a string <code>s</code>, return <em>the longest</em> <span data-keyword=\"palindromic-string\" class=\" cursor-pointer relative text-dark-blue-s text-sm\"><div class=\"popover-wrapper inline-block\" data-headlessui-state=\"\"><div><div aria-expanded=\"false\" data-headlessui-state=\"\" id=\"headlessui-popover-button-:rql:\"><div><em>palindromic</em></div></div><div style=\"position: fixed; z-index: 40; inset: 0px auto auto 0px; transform: translate(285px, 221px);\"></div></div></div></span> <span data-keyword=\"substring-nonempty\" class=\" cursor-pointer relative text-dark-blue-s text-sm\"><div class=\"popover-wrapper inline-block\" data-headlessui-state=\"\"><div><div aria-expanded=\"false\" data-headlessui-state=\"\" id=\"headlessui-popover-button-:rqn:\"><div><em>substring</em></div></div><div style=\"position: fixed; z-index: 40; inset: 0px auto auto 0px; transform: translate(352px, 221px);\"></div></div></div></span> in <code>s</code>.</p>\n",
    "\n",
    "<p>&nbsp;</p>\n",
    "<p><strong class=\"example\">Example 1:</strong></p>\n",
    "\n",
    "<pre><strong>Input:</strong> s = \"babad\"\n",
    "<strong>Output:</strong> \"bab\"\n",
    "<strong>Explanation:</strong> \"aba\" is also a valid answer.\n",
    "</pre>\n",
    "\n",
    "<p><strong class=\"example\">Example 2:</strong></p>\n",
    "\n",
    "<pre><strong>Input:</strong> s = \"cbbd\"\n",
    "<strong>Output:</strong> \"bb\"\n",
    "</pre>\n",
    "\n",
    "<p>&nbsp;</p>\n",
    "<p><strong>Constraints:</strong></p>\n",
    "\n",
    "<ul>\n",
    "\t<li><code>1 &lt;= s.length &lt;= 1000</code></li>\n",
    "\t<li><code>s</code> consist of only digits and English letters.</li>\n",
    "</ul>\n",
    "</div></div>"
   ]
  },
  {
   "cell_type": "code",
   "execution_count": 124,
   "metadata": {},
   "outputs": [],
   "source": [
    "def is_Palindrome(s):\n",
    "    return s == s[::-1]\n",
    "\n",
    "def longestPalindrome(s):\n",
    "    longPal = \"\"\n",
    "    for i in range(len(s)):\n",
    "        pal = \"\"\n",
    "        for j in range(len(s), i, -1):\n",
    "            if is_Palindrome(s[i:j]):\n",
    "                pal = s[i:j]\n",
    "                break\n",
    "        if(len(longPal)<len(pal)):\n",
    "            longPal = pal\n",
    "    return longPal"
   ]
  },
  {
   "cell_type": "code",
   "execution_count": 126,
   "metadata": {},
   "outputs": [
    {
     "name": "stdout",
     "output_type": "stream",
     "text": [
      "bab\n"
     ]
    }
   ],
   "source": [
    "\n",
    "s = \"babad\"\n",
    "print(longestPalindrome(s))"
   ]
  },
  {
   "cell_type": "markdown",
   "metadata": {},
   "source": [
    "## 4. Container With Most Water\n",
    "\n",
    "<div class=\"px-5 pt-4\"><div class=\"flex\"></div><div class=\"xFUwe\" data-track-load=\"description_content\"><p>You are given an integer array <code>height</code> of length <code>n</code>. There are <code>n</code> vertical lines drawn such that the two endpoints of the <code>i<sup>th</sup></code> line are <code>(i, 0)</code> <br> and <code>(i, height[i])</code>.</p>\n",
    "\n",
    "<p>Find two lines that together with the x-axis form a container, such that the container contains the most water.</p>\n",
    "\n",
    "<p>Return <em>the maximum amount of water a container can store</em>.</p>\n",
    "\n",
    "<p><strong>Notice</strong> that you may not slant the container.</p>\n",
    "\n",
    "<p>&nbsp;</p>\n",
    "<p><strong class=\"example\">Example 1:</strong></p>\n",
    "<img alt=\"\" src=\"https://s3-lc-upload.s3.amazonaws.com/uploads/2018/07/17/question_11.jpg\" style=\"width: 600px; height: 287px;\">\n",
    "<pre style= style=\"width: 600px; height: 287px;\"><strong>Input:</strong> height = [1,8,6,2,5,4,8,3,7]\n",
    "<strong>Output:</strong> 49\n",
    "<strong>Explanation:</strong> The above vertical lines are represented by array [1,8,6,2,5,4,8,3,7]. In this case, <br> the max area of water (blue section) the container can contain is 49.\n",
    "</pre>\n",
    "\n",
    "<p><strong class=\"example\">Example 2:</strong></p>\n",
    "\n",
    "<pre><strong>Input:</strong> height = [1,1]\n",
    "<strong>Output:</strong> 1\n",
    "</pre>\n",
    "\n",
    "<p>&nbsp;</p>\n",
    "<p><strong>Constraints:</strong></p>\n",
    "\n",
    "<ul>\n",
    "\t<li><code>n == height.length</code></li>\n",
    "\t<li><code>2 &lt;= n &lt;= 10<sup>5</sup></code></li>\n",
    "\t<li><code>0 &lt;= height[i] &lt;= 10<sup>4</sup></code></li>\n",
    "</ul>\n",
    "</div></div>"
   ]
  },
  {
   "cell_type": "code",
   "execution_count": 19,
   "metadata": {},
   "outputs": [],
   "source": [
    "def maxArea(height):\n",
    "    # maxA = 0\n",
    "    # for i in range(len(height)):\n",
    "    #     for j in range(i+1, len(height)):\n",
    "    #         minH = min(height[i], height[j])\n",
    "    #         area = minH * (j-i)\n",
    "    #         if area > maxA:\n",
    "    #             maxA = area\n",
    "    \n",
    "    # return maxA\n",
    "\n",
    "    maxA = 0\n",
    "    l, r = 0, len(height)-1\n",
    "\n",
    "    while l < r:\n",
    "        area = min(height[r], height[l]) * (r - l)\n",
    "        maxA = max(maxA, area)\n",
    "\n",
    "        if(height[l] < height[r]):\n",
    "            l += 1\n",
    "        else:\n",
    "            r -= 1\n",
    "    return maxA"
   ]
  },
  {
   "cell_type": "code",
   "execution_count": 21,
   "metadata": {},
   "outputs": [
    {
     "data": {
      "text/plain": [
       "1"
      ]
     },
     "execution_count": 21,
     "metadata": {},
     "output_type": "execute_result"
    }
   ],
   "source": [
    "height = [1,1]\n",
    "maxArea(height)"
   ]
  },
  {
   "cell_type": "markdown",
   "metadata": {},
   "source": [
    "## 5. 3Sum\n",
    "\n",
    "<div class=\"px-5 pt-4\"><div class=\"flex\"></div><div class=\"xFUwe\" data-track-load=\"description_content\"><p>Given an integer array nums, return all the triplets <code>[nums[i], nums[j], nums[k]]</code> such that <code>i != j</code>, <code>i != k</code>, and <code>j != k</code>, and <code>nums[i] + nums[j] + nums[k] == 0</code>.</p>\n",
    "\n",
    "<p>Notice that the solution set must not contain duplicate triplets.</p>\n",
    "\n",
    "<p>&nbsp;</p>\n",
    "<p><strong class=\"example\">Example 1:</strong></p>\n",
    "\n",
    "<pre><strong>Input:</strong> nums = [-1,0,1,2,-1,-4]\n",
    "<strong>Output:</strong> [[-1,-1,2],[-1,0,1]]\n",
    "<strong>Explanation:</strong> \n",
    "nums[0] + nums[1] + nums[2] = (-1) + 0 + 1 = 0.\n",
    "nums[1] + nums[2] + nums[4] = 0 + 1 + (-1) = 0.\n",
    "nums[0] + nums[3] + nums[4] = (-1) + 2 + (-1) = 0.\n",
    "The distinct triplets are [-1,0,1] and [-1,-1,2].\n",
    "Notice that the order of the output and the order of the triplets does not matter.\n",
    "</pre>\n",
    "\n",
    "<p><strong class=\"example\">Example 2:</strong></p>\n",
    "\n",
    "<pre><strong>Input:</strong> nums = [0,1,1]\n",
    "<strong>Output:</strong> []\n",
    "<strong>Explanation:</strong> The only possible triplet does not sum up to 0.\n",
    "</pre>\n",
    "\n",
    "<p><strong class=\"example\">Example 3:</strong></p>\n",
    "\n",
    "<pre><strong>Input:</strong> nums = [0,0,0]\n",
    "<strong>Output:</strong> [[0,0,0]]\n",
    "<strong>Explanation:</strong> The only possible triplet sums up to 0.\n",
    "</pre>\n",
    "\n",
    "<p>&nbsp;</p>\n",
    "<p><strong>Constraints:</strong></p>\n",
    "\n",
    "<ul>\n",
    "\t<li><code>3 &lt;= nums.length &lt;= 3000</code></li>\n",
    "\t<li><code>-10<sup>5</sup> &lt;= nums[i] &lt;= 10<sup>5</sup></code></li>\n",
    "</ul>\n",
    "</div></div>"
   ]
  },
  {
   "cell_type": "code",
   "execution_count": 42,
   "metadata": {},
   "outputs": [],
   "source": [
    "def threeSum(nums):\n",
    "    soln = []\n",
    "    nums.sort()\n",
    "    # print(nums)\n",
    "    for i in range(len(nums)):\n",
    "        if nums[i] == nums[i-1] and i > 0:\n",
    "            continue\n",
    "        l, r = i+1, len(nums) -1\n",
    "        print(\"nums: \",nums[i])\n",
    "        while l<r:\n",
    "            sum = nums[i] + nums[l] + nums[r]\n",
    "            print(\"sum: \",sum)\n",
    "            if sum > 0:\n",
    "                r -= 1\n",
    "            elif sum < 0:\n",
    "                l += 1\n",
    "            else:\n",
    "                soln.append([nums[i], nums[l], nums[r]])\n",
    "                l += 1\n",
    "                while nums[l] == nums[l - 1] and l< r:\n",
    "                    l+= 1\n",
    "    return soln\n",
    "            "
   ]
  },
  {
   "cell_type": "code",
   "execution_count": 43,
   "metadata": {},
   "outputs": [
    {
     "name": "stdout",
     "output_type": "stream",
     "text": [
      "nums:  -4\n",
      "sum:  -3\n",
      "sum:  -3\n",
      "sum:  -2\n",
      "sum:  -1\n",
      "nums:  -1\n",
      "sum:  0\n",
      "sum:  1\n",
      "sum:  0\n",
      "nums:  0\n",
      "sum:  3\n",
      "nums:  1\n",
      "nums:  2\n"
     ]
    },
    {
     "data": {
      "text/plain": [
       "[[-1, -1, 2], [-1, 0, 1]]"
      ]
     },
     "execution_count": 43,
     "metadata": {},
     "output_type": "execute_result"
    }
   ],
   "source": [
    "nums = [-1,0,1,2,-1,-4]\n",
    "threeSum(nums)"
   ]
  },
  {
   "cell_type": "markdown",
   "metadata": {},
   "source": [
    "## 6. Remove Nth Node From End of List\n",
    "\n",
    "<div class=\"xFUwe\" data-track-load=\"description_content\"><p>Given the <code>head</code> of a linked list, remove the <code>n<sup>th</sup></code> node from the end of the list and return its head.</p>\n",
    "\n",
    "<p>&nbsp;</p>\n",
    "<p><strong class=\"example\">Example 1:</strong></p>\n",
    "<img alt=\"\" src=\"https://assets.leetcode.com/uploads/2020/10/03/remove_ex1.jpg\" style=\"width: 542px; height: 222px;\">\n",
    "<pre><strong>Input:</strong> head = [1,2,3,4,5], n = 2\n",
    "<strong>Output:</strong> [1,2,3,5]\n",
    "</pre>\n",
    "\n",
    "<p><strong class=\"example\">Example 2:</strong></p>\n",
    "\n",
    "<pre><strong>Input:</strong> head = [1], n = 1\n",
    "<strong>Output:</strong> []\n",
    "</pre>\n",
    "\n",
    "<p><strong class=\"example\">Example 3:</strong></p>\n",
    "\n",
    "<pre><strong>Input:</strong> head = [1,2], n = 1\n",
    "<strong>Output:</strong> [1]\n",
    "</pre>\n",
    "\n",
    "<p>&nbsp;</p>\n",
    "<p><strong>Constraints:</strong></p>\n",
    "\n",
    "<ul>\n",
    "\t<li>The number of nodes in the list is <code>sz</code>.</li>\n",
    "\t<li><code>1 &lt;= sz &lt;= 30</code></li>\n",
    "\t<li><code>0 &lt;= Node.val &lt;= 100</code></li>\n",
    "\t<li><code>1 &lt;= n &lt;= sz</code></li>\n",
    "</ul>\n",
    "\n",
    "<p>&nbsp;</p>\n",
    "<p><strong>Follow up:</strong> Could you do this in one pass?</p>\n",
    "</div>"
   ]
  },
  {
   "cell_type": "code",
   "execution_count": null,
   "metadata": {},
   "outputs": [],
   "source": [
    "def removeNthFromEnd(head, n):\n",
    "    dummy = ListNode(0,head)\n",
    "    left = dummy\n",
    "    right = head\n",
    "\n",
    "    while n>0 and right:\n",
    "        right = right.next\n",
    "        n -= 1\n",
    "    while right:\n",
    "        left = left.next\n",
    "        right = right.next\n",
    "    \n",
    "    left.next = left.next.next\n",
    "\n",
    "    return dummy.next"
   ]
  },
  {
   "cell_type": "markdown",
   "metadata": {},
   "source": [
    "## 7. Valid Parentheses\n",
    "\n",
    "\n",
    "<div class=\"xFUwe\" data-track-load=\"description_content\"><p>Given a string <code>s</code> containing just the characters <code>'('</code>, <code>')'</code>, <code>'{'</code>, <code>'}'</code>, <code>'['</code> and <code>']'</code>, determine if the input string is valid.</p>\n",
    "\n",
    "<p>An input string is valid if:</p>\n",
    "\n",
    "<ol>\n",
    "\t<li>Open brackets must be closed by the same type of brackets.</li>\n",
    "\t<li>Open brackets must be closed in the correct order.</li>\n",
    "\t<li>Every close bracket has a corresponding open bracket of the same type.</li>\n",
    "</ol>\n",
    "\n",
    "<p>&nbsp;</p>\n",
    "<p><strong class=\"example\">Example 1:</strong></p>\n",
    "\n",
    "<pre><strong>Input:</strong> s = \"()\"\n",
    "<strong>Output:</strong> true\n",
    "</pre>\n",
    "\n",
    "<p><strong class=\"example\">Example 2:</strong></p>\n",
    "\n",
    "<pre><strong>Input:</strong> s = \"()[]{}\"\n",
    "<strong>Output:</strong> true\n",
    "</pre>\n",
    "\n",
    "<p><strong class=\"example\">Example 3:</strong></p>\n",
    "\n",
    "<pre><strong>Input:</strong> s = \"(]\"\n",
    "<strong>Output:</strong> false\n",
    "</pre>\n",
    "\n",
    "<p>&nbsp;</p>\n",
    "<p><strong>Constraints:</strong></p>\n",
    "\n",
    "<ul>\n",
    "\t<li><code>1 &lt;= s.length &lt;= 10<sup>4</sup></code></li>\n",
    "\t<li><code>s</code> consists of parentheses only <code>'()[]{}'</code>.</li>\n",
    "</ul>\n",
    "</div>"
   ]
  },
  {
   "cell_type": "code",
   "execution_count": 44,
   "metadata": {},
   "outputs": [],
   "source": [
    "def isValid(s):\n",
    "    brmap = {\"(\" : \")\", \"{\": \"}\", \"[\": \"]\"}\n",
    "    stack = []\n",
    "    \n",
    "    for x in s:\n",
    "        if x in brmap.keys():\n",
    "            stack.append(x)\n",
    "        elif stack == [] or x != brmap[stack.pop()]:\n",
    "            return False\n",
    "        \n",
    "    return stack == []"
   ]
  },
  {
   "cell_type": "markdown",
   "metadata": {},
   "source": [
    "## 8. Merge Two Sorted Lists\n",
    "\n",
    "\n",
    "<div class=\"px-5 pt-4\"><div class=\"flex\"></div><div class=\"xFUwe\" data-track-load=\"description_content\"><p>You are given the heads of two sorted linked lists <code>list1</code> and <code>list2</code>.</p>\n",
    "\n",
    "<p>Merge the two lists into one <strong>sorted</strong> list. The list should be made by splicing together the nodes of the first two lists.</p>\n",
    "\n",
    "<p>Return <em>the head of the merged linked list</em>.</p>\n",
    "\n",
    "<p>&nbsp;</p>\n",
    "<p><strong class=\"example\">Example 1:</strong></p>\n",
    "<img alt=\"\" src=\"https://assets.leetcode.com/uploads/2020/10/03/merge_ex1.jpg\" style=\"width: 662px; height: 302px;\">\n",
    "<pre><strong>Input:</strong> list1 = [1,2,4], list2 = [1,3,4]\n",
    "<strong>Output:</strong> [1,1,2,3,4,4]\n",
    "</pre>\n",
    "\n",
    "<p><strong class=\"example\">Example 2:</strong></p>\n",
    "\n",
    "<pre><strong>Input:</strong> list1 = [], list2 = []\n",
    "<strong>Output:</strong> []\n",
    "</pre>\n",
    "\n",
    "<p><strong class=\"example\">Example 3:</strong></p>\n",
    "\n",
    "<pre><strong>Input:</strong> list1 = [], list2 = [0]\n",
    "<strong>Output:</strong> [0]\n",
    "</pre>\n",
    "\n",
    "<p>&nbsp;</p>\n",
    "<p><strong>Constraints:</strong></p>\n",
    "\n",
    "<ul>\n",
    "\t<li>The number of nodes in both lists is in the range <code>[0, 50]</code>.</li>\n",
    "\t<li><code>-100 &lt;= Node.val &lt;= 100</code></li>\n",
    "\t<li>Both <code>list1</code> and <code>list2</code> are sorted in <strong>non-decreasing</strong> order.</li>\n",
    "</ul>\n",
    "</div></div>"
   ]
  },
  {
   "cell_type": "code",
   "execution_count": null,
   "metadata": {},
   "outputs": [],
   "source": [
    "def mergeTwoLists(self, l1, l2):\n",
    "    temp = cur = ListNode()\n",
    "        \n",
    "    while l1 and l2:\n",
    "        if l1.val <= l2.val:\n",
    "            cur.next = l1\n",
    "            l1 = l1.next \n",
    "        else:\n",
    "            cur.next = l2\n",
    "            l2 = l2.next\n",
    "        cur = cur.next\n",
    "    cur.next = l1 or l2\n",
    "    return temp.next"
   ]
  },
  {
   "cell_type": "markdown",
   "metadata": {},
   "source": [
    "# 9. Search in Rotated Sorted Array\n",
    "\n",
    "\n",
    "<div class=\"px-5 pt-4\"><div class=\"flex\"></div><div class=\"xFUwe\" data-track-load=\"description_content\"><p>There is an integer array <code>nums</code> sorted in ascending order (with <strong>distinct</strong> values).</p>\n",
    "\n",
    "<p>Prior to being passed to your function, <code>nums</code> is <strong>possibly rotated</strong> at an unknown pivot index <code>k</code> (<code>1 &lt;= k &lt; nums.length</code>) such that the resulting array is <code>[nums[k], nums[k+1], ..., nums[n-1], nums[0], nums[1], ..., nums[k-1]]</code> (<strong>0-indexed</strong>). For example, <code>[0,1,2,4,5,6,7]</code> might be rotated at pivot index <code>3</code> and become <code>[4,5,6,7,0,1,2]</code>.</p>\n",
    "\n",
    "<p>Given the array <code>nums</code> <strong>after</strong> the possible rotation and an integer <code>target</code>, return <em>the index of </em><code>target</code><em> if it is in </em><code>nums</code><em>, or </em><code>-1</code><em> if it is not in </em><code>nums</code>.</p>\n",
    "\n",
    "<p>You must write an algorithm with <code>O(log n)</code> runtime complexity.</p>\n",
    "\n",
    "<p>&nbsp;</p>\n",
    "<p><strong class=\"example\">Example 1:</strong></p>\n",
    "<pre><strong>Input:</strong> nums = [4,5,6,7,0,1,2], target = 0\n",
    "<strong>Output:</strong> 4\n",
    "</pre><p><strong class=\"example\">Example 2:</strong></p>\n",
    "<pre><strong>Input:</strong> nums = [4,5,6,7,0,1,2], target = 3\n",
    "<strong>Output:</strong> -1\n",
    "</pre><p><strong class=\"example\">Example 3:</strong></p>\n",
    "<pre><strong>Input:</strong> nums = [1], target = 0\n",
    "<strong>Output:</strong> -1\n",
    "</pre>\n",
    "<p>&nbsp;</p>\n",
    "<p><strong>Constraints:</strong></p>\n",
    "\n",
    "<ul>\n",
    "\t<li><code>1 &lt;= nums.length &lt;= 5000</code></li>\n",
    "\t<li><code>-10<sup>4</sup> &lt;= nums[i] &lt;= 10<sup>4</sup></code></li>\n",
    "\t<li>All values of <code>nums</code> are <strong>unique</strong>.</li>\n",
    "\t<li><code>nums</code> is an ascending array that is possibly rotated.</li>\n",
    "\t<li><code>-10<sup>4</sup> &lt;= target &lt;= 10<sup>4</sup></code></li>\n",
    "</ul>\n",
    "</div></div>"
   ]
  },
  {
   "cell_type": "code",
   "execution_count": 9,
   "metadata": {},
   "outputs": [],
   "source": [
    "def search(nums, target):\n",
    "    l, r = 0, len(nums) - 1\n",
    "\n",
    "    while l<=r:\n",
    "        mid = (l + r) // 2\n",
    "        if(nums[mid] == target):\n",
    "            return mid \n",
    "        \n",
    "        if(nums[mid] >= nums[l]):\n",
    "            if(nums[mid] < target):\n",
    "                l = mid + 1\n",
    "            elif(nums[l] > target):\n",
    "                l = mid + 1\n",
    "            else:\n",
    "                r = mid - 1\n",
    "        else:\n",
    "            if(nums[mid] > target):\n",
    "                r = mid - 1\n",
    "            elif(nums[r] < target):\n",
    "                r = mid - 1\n",
    "            else:\n",
    "                l = mid + 1\n",
    "    return -1"
   ]
  },
  {
   "cell_type": "code",
   "execution_count": 10,
   "metadata": {},
   "outputs": [
    {
     "name": "stdout",
     "output_type": "stream",
     "text": [
      "4\n"
     ]
    }
   ],
   "source": [
    "nums = [4,5,6,7,0,1,2]\n",
    "target = 0\n",
    "print(search(nums, target))"
   ]
  },
  {
   "cell_type": "markdown",
   "metadata": {},
   "source": [
    "# 10. Counting Bits\n",
    "\n",
    "\n",
    "<div class=\"xFUwe\" data-track-load=\"description_content\"><p>Given an integer <code>n</code>, return <em>an array </em><code>ans</code><em> of length </em><code>n + 1</code><em> such that for each </em><code>i</code><em> </em>(<code>0 &lt;= i &lt;= n</code>)<em>, </em><code>ans[i]</code><em> is the <strong>number of </strong></em><code>1</code><em><strong>'s</strong> in the binary representation of </em><code>i</code>.</p>\n",
    "\n",
    "<p>&nbsp;</p>\n",
    "<p><strong class=\"example\">Example 1:</strong></p>\n",
    "\n",
    "<pre><strong>Input:</strong> n = 2\n",
    "<strong>Output:</strong> [0,1,1]\n",
    "<strong>Explanation:</strong>\n",
    "0 --&gt; 0\n",
    "1 --&gt; 1\n",
    "2 --&gt; 10\n",
    "</pre>\n",
    "\n",
    "<p><strong class=\"example\">Example 2:</strong></p>\n",
    "\n",
    "<pre><strong>Input:</strong> n = 5\n",
    "<strong>Output:</strong> [0,1,1,2,1,2]\n",
    "<strong>Explanation:</strong>\n",
    "0 --&gt; 0\n",
    "1 --&gt; 1\n",
    "2 --&gt; 10\n",
    "3 --&gt; 11\n",
    "4 --&gt; 100\n",
    "5 --&gt; 101\n",
    "</pre>\n",
    "\n",
    "<p>&nbsp;</p>\n",
    "<p><strong>Constraints:</strong></p>\n",
    "\n",
    "<ul>\n",
    "\t<li><code>0 &lt;= n &lt;= 10<sup>5</sup></code></li>\n",
    "</ul>\n",
    "\n",
    "<p>&nbsp;</p>\n",
    "<p><strong>Follow up:</strong></p>\n",
    "\n",
    "<ul>\n",
    "\t<li>It is very easy to come up with a solution with a runtime of <code>O(n log n)</code>. Can you do it in linear time <code>O(n)</code> and possibly in a single pass?</li>\n",
    "\t<li>Can you do it without using any built-in function (i.e., like <code>__builtin_popcount</code> in C++)?</li>\n",
    "</ul>\n",
    "</div>"
   ]
  },
  {
   "cell_type": "code",
   "execution_count": 8,
   "metadata": {},
   "outputs": [],
   "source": [
    "#1st\n",
    "def int2bin(n):\n",
    "    if n == 0:\n",
    "        return \"0\"\n",
    "    bin_str = ''\n",
    "    while(n>0):\n",
    "        digit = n % 2\n",
    "        bin_str += str(digit)\n",
    "        n = n // 2\n",
    "    bin_str = bin_str[::-1]\n",
    "    return bin_str"
   ]
  },
  {
   "cell_type": "code",
   "execution_count": 74,
   "metadata": {},
   "outputs": [],
   "source": [
    "#2nd\n",
    "def int2bin_One(n):\n",
    "    if n == 0:\n",
    "        return 0\n",
    "    sum = 0\n",
    "    while(n>0):\n",
    "        digit = n % 2\n",
    "        if(digit == 1):\n",
    "            sum += 1\n",
    "        n = n // 2\n",
    "    return sum"
   ]
  },
  {
   "cell_type": "code",
   "execution_count": 75,
   "metadata": {},
   "outputs": [],
   "source": [
    "#2nd\n",
    "def countBits(n):\n",
    "    count_1 = []\n",
    "    for i in range(n+1):\n",
    "        bin = int2bin_One(i)\n",
    "        # print(bin)\n",
    "        count_1.append(bin)\n",
    "    return count_1\n"
   ]
  },
  {
   "cell_type": "code",
   "execution_count": 76,
   "metadata": {},
   "outputs": [],
   "source": [
    "# 3rd\n",
    "def countBits(n):\n",
    "    count_1 = []\n",
    "    for i in range(n+1):\n",
    "        if i % 2 == 0:\n",
    "            bin = int2bin_One(i)\n",
    "            count_1.append(bin)\n",
    "            if i+1 < n+1:\n",
    "                count_1.append(bin + 1)\n",
    "    return count_1"
   ]
  },
  {
   "cell_type": "code",
   "execution_count": 77,
   "metadata": {},
   "outputs": [
    {
     "data": {
      "text/plain": [
       "[0, 1, 1, 2, 1, 2, 2, 3, 1, 2, 2]"
      ]
     },
     "execution_count": 77,
     "metadata": {},
     "output_type": "execute_result"
    }
   ],
   "source": [
    "countBits(10)"
   ]
  },
  {
   "cell_type": "code",
   "execution_count": 5,
   "metadata": {},
   "outputs": [],
   "source": [
    "# 4th Solution using DP\n",
    "\n",
    "def countBits(n):\n",
    "    dp = [0] * (n+1)\n",
    "    offset = 1\n",
    "\n",
    "    for i in range(1, n+1):\n",
    "        if offset * 2 == i:\n",
    "            offset = i\n",
    "        dp[i] = 1 + dp[i - offset]\n",
    "    return dp"
   ]
  },
  {
   "cell_type": "code",
   "execution_count": 6,
   "metadata": {},
   "outputs": [
    {
     "name": "stdout",
     "output_type": "stream",
     "text": [
      "[0, 1, 1, 2, 1, 2]\n"
     ]
    }
   ],
   "source": [
    "# Testing\n",
    "print(countBits(5))\n"
   ]
  },
  {
   "cell_type": "markdown",
   "metadata": {},
   "source": [
    "# 11. Maximum Subarray\n",
    "\n",
    "\n",
    "<div class=\"xFUwe\" data-track-load=\"description_content\"><p>Given an integer array <code>nums</code>, find the <span data-keyword=\"subarray-nonempty\" class=\" cursor-pointer relative text-dark-blue-s text-sm\"><div class=\"popover-wrapper inline-block\" data-headlessui-state=\"\"><div><div aria-expanded=\"false\" data-headlessui-state=\"\" id=\"headlessui-popover-button-:rm:\"><div>subarray</div></div><div style=\"position: fixed; z-index: 40; inset: 0px auto auto 0px; transform: translate(288px, 221px);\"></div></div></div></span> with the largest sum, and return <em>its sum</em>.</p>\n",
    "\n",
    "<p>&nbsp;</p>\n",
    "<p><strong class=\"example\">Example 1:</strong></p>\n",
    "\n",
    "<pre><strong>Input:</strong> nums = [-2,1,-3,4,-1,2,1,-5,4]\n",
    "<strong>Output:</strong> 6\n",
    "<strong>Explanation:</strong> The subarray [4,-1,2,1] has the largest sum 6.\n",
    "</pre>\n",
    "\n",
    "<p><strong class=\"example\">Example 2:</strong></p>\n",
    "\n",
    "<pre><strong>Input:</strong> nums = [1]\n",
    "<strong>Output:</strong> 1\n",
    "<strong>Explanation:</strong> The subarray [1] has the largest sum 1.\n",
    "</pre>\n",
    "\n",
    "<p><strong class=\"example\">Example 3:</strong></p>\n",
    "\n",
    "<pre><strong>Input:</strong> nums = [5,4,-1,7,8]\n",
    "<strong>Output:</strong> 23\n",
    "<strong>Explanation:</strong> The subarray [5,4,-1,7,8] has the largest sum 23.\n",
    "</pre>\n",
    "\n",
    "<p>&nbsp;</p>\n",
    "<p><strong>Constraints:</strong></p>\n",
    "\n",
    "<ul>\n",
    "\t<li><code>1 &lt;= nums.length &lt;= 10<sup>5</sup></code></li>\n",
    "\t<li><code>-10<sup>4</sup> &lt;= nums[i] &lt;= 10<sup>4</sup></code></li>\n",
    "</ul>\n",
    "\n",
    "<p>&nbsp;</p>\n",
    "<p><strong>Follow up:</strong> If you have figured out the <code>O(n)</code> solution, try coding another solution using the <strong>divide and conquer</strong> approach, which is more subtle.</p>\n",
    "</div>"
   ]
  },
  {
   "cell_type": "code",
   "execution_count": 3,
   "metadata": {},
   "outputs": [],
   "source": [
    "def maxSubArray(nums):\n",
    "    maxArray = nums[0]\n",
    "    cSum = nums[0]\n",
    "\n",
    "    for num in nums[1:]:\n",
    "        if cSum < 0:\n",
    "            cSum = 0\n",
    "        cSum += num\n",
    "\n",
    "        if cSum > maxArray:\n",
    "            maxArray = cSum\n",
    "    \n",
    "    return maxArray"
   ]
  },
  {
   "cell_type": "code",
   "execution_count": 4,
   "metadata": {},
   "outputs": [
    {
     "name": "stdout",
     "output_type": "stream",
     "text": [
      "-1\n"
     ]
    }
   ],
   "source": [
    "print(maxSubArray([-1,-1]))"
   ]
  },
  {
   "cell_type": "markdown",
   "metadata": {},
   "source": [
    "# 12. Number of 1 Bits\n",
    "\n",
    "\n",
    "<div class=\"px-5 pt-4\"><div class=\"flex\"></div><div class=\"xFUwe\" data-track-load=\"description_content\"><p>Write a function that takes&nbsp;the binary representation of an unsigned integer and returns the number of '1' bits it has (also known as the <a href=\"http://en.wikipedia.org/wiki/Hamming_weight\" target=\"_blank\">Hamming weight</a>).</p>\n",
    "\n",
    "<p><strong>Note:</strong></p>\n",
    "\n",
    "<ul>\n",
    "\t<li>Note that in some languages, such as Java, there is no unsigned integer type. In this case, the input will be given as a signed integer type. It should not affect your implementation, as the integer's internal binary representation is the same, whether it is signed or unsigned.</li>\n",
    "\t<li>In Java, the compiler represents the signed integers using <a href=\"https://en.wikipedia.org/wiki/Two%27s_complement\" target=\"_blank\">2's complement notation</a>. Therefore, in <strong class=\"example\">Example 3</strong>, the input represents the signed integer. <code>-3</code>.</li>\n",
    "</ul>\n",
    "\n",
    "<p>&nbsp;</p>\n",
    "<p><strong class=\"example\">Example 1:</strong></p>\n",
    "\n",
    "<pre><strong>Input:</strong> n = 00000000000000000000000000001011\n",
    "<strong>Output:</strong> 3\n",
    "<strong>Explanation:</strong> The input binary string <strong>00000000000000000000000000001011</strong> has a total of three '1' bits.\n",
    "</pre>\n",
    "\n",
    "<p><strong class=\"example\">Example 2:</strong></p>\n",
    "\n",
    "<pre><strong>Input:</strong> n = 00000000000000000000000010000000\n",
    "<strong>Output:</strong> 1\n",
    "<strong>Explanation:</strong> The input binary string <strong>00000000000000000000000010000000</strong> has a total of one '1' bit.\n",
    "</pre>\n",
    "\n",
    "<p><strong class=\"example\">Example 3:</strong></p>\n",
    "\n",
    "<pre><strong>Input:</strong> n = 11111111111111111111111111111101\n",
    "<strong>Output:</strong> 31\n",
    "<strong>Explanation:</strong> The input binary string <strong>11111111111111111111111111111101</strong> has a total of thirty one '1' bits.\n",
    "</pre>\n",
    "\n",
    "<p>&nbsp;</p>\n",
    "<p><strong>Constraints:</strong></p>\n",
    "\n",
    "<ul>\n",
    "\t<li>The input must be a <strong>binary string</strong> of length <code>32</code>.</li>\n",
    "</ul>\n",
    "\n",
    "<p>&nbsp;</p>\n",
    "<strong>Follow up:</strong> If this function is called many times, how would you optimize it?</div></div>"
   ]
  },
  {
   "cell_type": "code",
   "execution_count": 17,
   "metadata": {},
   "outputs": [],
   "source": [
    "def hammingWeight(n):\n",
    "    sum = 0\n",
    "\n",
    "    while n:\n",
    "        sum += n % 2\n",
    "        n = n >> 1\n",
    "    return sum"
   ]
  },
  {
   "cell_type": "code",
   "execution_count": 18,
   "metadata": {},
   "outputs": [
    {
     "data": {
      "text/plain": [
       "60"
      ]
     },
     "execution_count": 18,
     "metadata": {},
     "output_type": "execute_result"
    }
   ],
   "source": [
    "# works in leetcode compiler\n",
    "hammingWeight(11111111111111111111111111111101)"
   ]
  },
  {
   "cell_type": "code",
   "execution_count": null,
   "metadata": {},
   "outputs": [],
   "source": []
  }
 ],
 "metadata": {
  "kernelspec": {
   "display_name": "Python 3",
   "language": "python",
   "name": "python3"
  },
  "language_info": {
   "codemirror_mode": {
    "name": "ipython",
    "version": 3
   },
   "file_extension": ".py",
   "mimetype": "text/x-python",
   "name": "python",
   "nbconvert_exporter": "python",
   "pygments_lexer": "ipython3",
   "version": "3.11.4"
  }
 },
 "nbformat": 4,
 "nbformat_minor": 2
}
