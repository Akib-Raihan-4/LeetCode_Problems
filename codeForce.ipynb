{
 "cells": [
  {
   "cell_type": "markdown",
   "metadata": {},
   "source": [
    "# CODEFORCE - A"
   ]
  },
  {
   "cell_type": "markdown",
   "metadata": {},
   "source": [
    "## 1. Nearly Lucky Number"
   ]
  },
  {
   "cell_type": "code",
   "execution_count": null,
   "metadata": {},
   "outputs": [],
   "source": [
    "def find_lucky(num):\n",
    "    lucky_digits = [4,7]\n",
    "    no_lucky = 0\n",
    "    while num != 0:\n",
    "        luck = num % 10\n",
    "        num = num // 10\n",
    "        if luck in lucky_digits:\n",
    "            no_lucky += 1\n",
    "    \n",
    "    return \"YES\" if no_lucky in lucky_digits  else \"NO\" "
   ]
  },
  {
   "cell_type": "code",
   "execution_count": null,
   "metadata": {},
   "outputs": [
    {
     "data": {
      "text/plain": [
       "'NO'"
      ]
     },
     "metadata": {},
     "output_type": "display_data"
    }
   ],
   "source": [
    "num = 7\n",
    "\n",
    "\n",
    "find_lucky(num)\n"
   ]
  },
  {
   "cell_type": "markdown",
   "metadata": {},
   "source": [
    "## 2. Bit++"
   ]
  },
  {
   "cell_type": "code",
   "execution_count": null,
   "metadata": {},
   "outputs": [
    {
     "name": "stdout",
     "output_type": "stream",
     "text": [
      "0\n"
     ]
    }
   ],
   "source": [
    "n = int(input())\n",
    "x = 0\n",
    "for _ in range(n):\n",
    "    statement = input()\n",
    "    \n",
    "    if \"++\" in statement:\n",
    "        x  += 1\n",
    "    else:\n",
    "        x -= 1\n",
    "print(x)"
   ]
  },
  {
   "cell_type": "code",
   "execution_count": null,
   "metadata": {},
   "outputs": [
    {
     "name": "stdout",
     "output_type": "stream",
     "text": [
      "plus\n"
     ]
    }
   ],
   "source": [
    "s = \"X++\"\n",
    "if \"++\" in s:\n",
    "    print(\"plus\")"
   ]
  },
  {
   "cell_type": "markdown",
   "metadata": {},
   "source": [
    "## 3. Chewbacca and Number - (A)"
   ]
  },
  {
   "cell_type": "code",
   "execution_count": null,
   "metadata": {},
   "outputs": [
    {
     "name": "stdout",
     "output_type": "stream",
     "text": [
      "9\n"
     ]
    }
   ],
   "source": [
    "def chew_number(n):\n",
    "    list_n = list(n)\n",
    "    for i in range(len(list_n)):\n",
    "        replace_digit = 9 - int(list_n[i])\n",
    "        if int(list_n[i]) > replace_digit:\n",
    "            if replace_digit == 0 and i == 0:\n",
    "                continue\n",
    "            list_n[i] = str(replace_digit)\n",
    "    \n",
    "    print(int(\"\".join(list_n)))\n",
    "        \n",
    "\n",
    "n = input()\n",
    "chew_number(n)\n"
   ]
  },
  {
   "cell_type": "code",
   "execution_count": null,
   "metadata": {},
   "outputs": [
    {
     "name": "stdout",
     "output_type": "stream",
     "text": [
      "91\n"
     ]
    }
   ],
   "source": [
    "n = \"98\"\n",
    "chew_number(n)"
   ]
  },
  {
   "cell_type": "markdown",
   "metadata": {},
   "source": [
    "## 4. Beautiful Matrix"
   ]
  },
  {
   "cell_type": "code",
   "execution_count": null,
   "metadata": {},
   "outputs": [],
   "source": [
    "def beautiful_Matrix(matrix):\n",
    "    \n",
    "    for row in range(5):\n",
    "        for col in range(5):\n",
    "            if matrix[row][col] == 1:\n",
    "                row_position, col_position = row, col\n",
    "                break\n",
    "    \n",
    "    mid_row, mid_col = 2, 2\n",
    "    return abs(mid_row-row_position) + abs(mid_col-col_position)"
   ]
  },
  {
   "cell_type": "code",
   "execution_count": null,
   "metadata": {},
   "outputs": [
    {
     "name": "stdout",
     "output_type": "stream",
     "text": [
      "1\n"
     ]
    }
   ],
   "source": [
    "# matrix= [[int(input()) for i in range(5)] for j in range(5)]\n",
    "matrix = []\n",
    "\n",
    "for i in range(5):\n",
    "    a = list(map(int, input().split()))\n",
    "    matrix.append(a)\n",
    "\n",
    "# matrix = [[0, 0, 0 ,0 ,0],[0, 0, 0 ,0 ,0],[0, 1, 0 ,0 ,0],[0, 0, 0 ,0 ,0],[0, 0, 0 ,0 ,0]]\n",
    "\n",
    "\n",
    "print(beautiful_Matrix(matrix))\n",
    "\n"
   ]
  },
  {
   "cell_type": "markdown",
   "metadata": {},
   "source": [
    "## 5. Soft Drinking"
   ]
  },
  {
   "cell_type": "code",
   "execution_count": null,
   "metadata": {},
   "outputs": [
    {
     "name": "stdout",
     "output_type": "stream",
     "text": [
      "3\n"
     ]
    }
   ],
   "source": [
    "n, k, l, c, d, p, nl, np = list(map(int, input().split()))\n",
    "\n",
    "total_lit = k * l\n",
    "total_slices = c * d\n",
    "total_grams = p\n",
    "\n",
    "toast = min(total_lit//nl, total_slices, total_grams// np) // n\n",
    "\n",
    "print(toast)\n"
   ]
  },
  {
   "cell_type": "markdown",
   "metadata": {},
   "source": [
    "## 6. The New Year: Meeting Friends"
   ]
  },
  {
   "cell_type": "code",
   "execution_count": null,
   "metadata": {},
   "outputs": [
    {
     "name": "stdout",
     "output_type": "stream",
     "text": [
      "20\n"
     ]
    }
   ],
   "source": [
    "x1, x2, x3 = list(map(int, input().split()))\n",
    "\n",
    "if (x1<x2 and x2<x3) or (x3<x2 and x2<x1):\n",
    "    mid = x2\n",
    "elif (x2<x1 and x1<x3) or (x3<x1 and x1<x2):\n",
    "    mid = x1\n",
    "else:\n",
    "    mid = x3\n",
    "    \n",
    "print(abs(mid-x1) + abs(mid - x2) + abs(mid - x3))"
   ]
  },
  {
   "cell_type": "markdown",
   "metadata": {},
   "source": [
    "## 7. Sum of Round Numbers"
   ]
  },
  {
   "cell_type": "code",
   "execution_count": null,
   "metadata": {},
   "outputs": [
    {
     "name": "stdout",
     "output_type": "stream",
     "text": [
      "1\n",
      "7 \n",
      "2\n",
      "9 5000 \n"
     ]
    }
   ],
   "source": [
    "def round_int(n):\n",
    "    temp_arr = []\n",
    "    count = 0\n",
    "    while n != 0:\n",
    "        if n % 10:\n",
    "            multiplier = pow(10, count)\n",
    "            ans = multiplier * (n%10)\n",
    "            temp_arr.append(ans)\n",
    "        n = n//10\n",
    "        count += 1\n",
    "    return len(temp_arr), temp_arr\n",
    "\n",
    "t = int(input())\n",
    "\n",
    "for i in range(t):\n",
    "    n = int(input())\n",
    "    k, arr = round_int(n)\n",
    "    print(k)\n",
    "    for num in arr:\n",
    "        print(num, end=\" \")\n",
    "    print()"
   ]
  },
  {
   "cell_type": "code",
   "execution_count": null,
   "metadata": {},
   "outputs": [
    {
     "data": {
      "text/plain": [
       "10000"
      ]
     },
     "metadata": {},
     "output_type": "display_data"
    }
   ],
   "source": [
    "pow(10,4)"
   ]
  },
  {
   "cell_type": "markdown",
   "metadata": {},
   "source": [
    "## 8. Fox and Snake"
   ]
  },
  {
   "cell_type": "code",
   "execution_count": null,
   "metadata": {},
   "outputs": [
    {
     "name": "stdout",
     "output_type": "stream",
     "text": [
      "#########\n",
      "........#\n",
      "#########\n",
      "#........\n",
      "#########\n",
      "........#\n",
      "#########\n",
      "#........\n",
      "#########\n"
     ]
    }
   ],
   "source": [
    "r, c = map(int, input().split())\n",
    "\n",
    "bool = True\n",
    "for i in range(r):\n",
    "    if i % 2 == 0:\n",
    "        print(\"#\" * c)\n",
    "    else:\n",
    "        if bool:\n",
    "            print(\".\"*(c-1) + \"#\")\n",
    "            bool = False\n",
    "        else:\n",
    "            print(\"#\" + \".\"*(c-1))\n",
    "            bool = True"
   ]
  },
  {
   "cell_type": "markdown",
   "metadata": {},
   "source": [
    "## 9. City Day"
   ]
  },
  {
   "cell_type": "code",
   "execution_count": null,
   "metadata": {},
   "outputs": [],
   "source": [
    "def least_rainy(nums):\n",
    "    for i in range(len(nums)):\n",
    "        least = nums[i]\n",
    "        bool = 1\n",
    "        for j in range(1,m+1):\n",
    "            if i + j > len(nums)-1:\n",
    "                break\n",
    "            elif least >= nums[i + j]:\n",
    "                bool = 0\n",
    "                break\n",
    "        for k in range(1,n+1):\n",
    "            if i-k < 0:\n",
    "                break\n",
    "            elif least >= nums[i-k]:\n",
    "                bool = 0\n",
    "                break\n",
    "        if bool:\n",
    "            print(i + 1)\n",
    "            break"
   ]
  },
  {
   "cell_type": "code",
   "execution_count": null,
   "metadata": {},
   "outputs": [
    {
     "name": "stdout",
     "output_type": "stream",
     "text": [
      "3\n"
     ]
    }
   ],
   "source": [
    "number_days, n, m = map(int, input().split())\n",
    "nums = list(map(int, input().split()))\n",
    "least_rainy(nums)"
   ]
  },
  {
   "cell_type": "markdown",
   "metadata": {},
   "source": [
    "## 10. Anton and Polyhedrons"
   ]
  },
  {
   "cell_type": "code",
   "execution_count": null,
   "metadata": {},
   "outputs": [
    {
     "name": "stdout",
     "output_type": "stream",
     "text": [
      "42\n"
     ]
    }
   ],
   "source": [
    "dic = {\"Tetrahedron\":4,\n",
    "       \"Cube\": 6,\n",
    "       \"Octahedron\": 8,\n",
    "       \"Dodecahedron\": 12,\n",
    "       \"Icosahedron\": 20}\n",
    "\n",
    "n = int(input())\n",
    "sum = 0\n",
    "for i in range(n):\n",
    "    poly = input()\n",
    "    sum += dic[poly]\n",
    "print(sum)"
   ]
  },
  {
   "cell_type": "markdown",
   "metadata": {},
   "source": [
    "## 11. Arrival of the General"
   ]
  },
  {
   "cell_type": "code",
   "execution_count": null,
   "metadata": {},
   "outputs": [
    {
     "name": "stdout",
     "output_type": "stream",
     "text": [
      "0\n"
     ]
    }
   ],
   "source": [
    "def last_index(nums, value):\n",
    "    nums.reverse()\n",
    "    i = nums.index(value)\n",
    "    nums.reverse()\n",
    "    return len(nums) - i - 1\n",
    "    \n",
    "def min_swapping(nums):\n",
    "    max_num_index = nums.index(max(nums))\n",
    "    min_num_index = last_index(nums, min(nums))\n",
    "\n",
    "    if max_num_index < min_num_index:\n",
    "        min_swap =( max_num_index - 0) + (len(nums) - 1 - min_num_index)\n",
    "        print(min_swap)\n",
    "    else:\n",
    "        min_swap =( max_num_index - 0) + (len(nums) - 1 - min_num_index) - 1\n",
    "        print(min_swap)\n",
    "\n",
    "n = int(input())\n",
    "nums = list(map(int, input().split()))\n",
    "min_swapping(nums)"
   ]
  },
  {
   "cell_type": "markdown",
   "metadata": {},
   "source": [
    "## 12. In Search of an Easy Problem"
   ]
  },
  {
   "cell_type": "code",
   "execution_count": null,
   "metadata": {},
   "outputs": [
    {
     "name": "stdout",
     "output_type": "stream",
     "text": [
      "EASY\n"
     ]
    }
   ],
   "source": [
    "n = int(input())\n",
    "list_que = list(map(int,input().split()))\n",
    "\n",
    "if 1 in list_que:\n",
    "    print(\"HARD\")\n",
    "else:\n",
    "    print(\"EASY\")"
   ]
  },
  {
   "cell_type": "markdown",
   "metadata": {},
   "source": [
    "## 13. Presents"
   ]
  },
  {
   "cell_type": "code",
   "execution_count": null,
   "metadata": {},
   "outputs": [
    {
     "name": "stdout",
     "output_type": "stream",
     "text": [
      "4 2 1 3 "
     ]
    }
   ],
   "source": [
    "n = int(input())\n",
    "p = list(map(int, input().split()))\n",
    "\n",
    "gift_recieved = [0] * n\n",
    "\n",
    "for i in range(n):\n",
    "    gift_recieved[p[i] -1] = i + 1\n",
    "\n",
    "for i in gift_recieved: print(i, end=\" \")"
   ]
  },
  {
   "cell_type": "markdown",
   "metadata": {},
   "source": [
    "## 14. Tram"
   ]
  },
  {
   "cell_type": "code",
   "execution_count": null,
   "metadata": {},
   "outputs": [
    {
     "name": "stdout",
     "output_type": "stream",
     "text": [
      "6\n"
     ]
    }
   ],
   "source": [
    "n = int(input())\n",
    "\n",
    "max = 0\n",
    "max_pass = 0\n",
    "for i in range(n):\n",
    "    exit, enter = map(int, input().split())\n",
    "    \n",
    "    max_pass = max_pass + (enter - exit)\n",
    "    \n",
    "    if max_pass > max:\n",
    "        max = max_pass\n",
    "\n",
    "print(max)\n",
    "    \n",
    "    "
   ]
  },
  {
   "cell_type": "markdown",
   "metadata": {},
   "source": [
    "## 15. Wrong Substraction"
   ]
  },
  {
   "cell_type": "code",
   "execution_count": null,
   "metadata": {},
   "outputs": [
    {
     "name": "stdout",
     "output_type": "stream",
     "text": [
      "1\n"
     ]
    }
   ],
   "source": [
    "def wrong_subs(n, k):\n",
    "    for i in range(k):\n",
    "        if n % 10:\n",
    "            n -= 1\n",
    "        else:\n",
    "            n = n // 10\n",
    "    return n\n",
    "\n",
    "n,k = map(int,input().split())\n",
    "print(wrong_subs(n,k))"
   ]
  },
  {
   "cell_type": "markdown",
   "metadata": {},
   "source": [
    "## 16. Soldier and Bananas"
   ]
  },
  {
   "cell_type": "code",
   "execution_count": null,
   "metadata": {},
   "outputs": [
    {
     "name": "stdout",
     "output_type": "stream",
     "text": [
      "13\n"
     ]
    }
   ],
   "source": [
    "k, n, w = map(int, input().split())\n",
    "\n",
    "sum = 0\n",
    "for i in range(w):\n",
    "    sum += (i+1) * k\n",
    "\n",
    "borrowed = sum - n\n",
    "print(0 if borrowed < 0 else borrowed)"
   ]
  },
  {
   "cell_type": "markdown",
   "metadata": {},
   "source": [
    "## 17. Bear and Big Brother"
   ]
  },
  {
   "cell_type": "code",
   "execution_count": null,
   "metadata": {},
   "outputs": [
    {
     "name": "stdout",
     "output_type": "stream",
     "text": [
      "3\n"
     ]
    }
   ],
   "source": [
    "a, b = map(int, input().split())\n",
    "\n",
    "count = 0\n",
    "while a <= b:\n",
    "    a *= 3\n",
    "    b *= 2\n",
    "    count += 1\n",
    "print(count)"
   ]
  },
  {
   "cell_type": "markdown",
   "metadata": {},
   "source": [
    "## 18. Boy or Girl"
   ]
  },
  {
   "cell_type": "code",
   "execution_count": null,
   "metadata": {},
   "outputs": [
    {
     "name": "stdout",
     "output_type": "stream",
     "text": [
      "CHAT WITH HER!\n"
     ]
    }
   ],
   "source": [
    "name = input()\n",
    "if(len(set(name)) % 2):\n",
    "    print(\"IGNORE HIM!\")\n",
    "else:\n",
    "    print(\"CHAT WITH HER!\")"
   ]
  },
  {
   "cell_type": "markdown",
   "metadata": {},
   "source": [
    "## 19. Word Capitalization"
   ]
  },
  {
   "cell_type": "code",
   "execution_count": null,
   "metadata": {},
   "outputs": [
    {
     "name": "stdout",
     "output_type": "stream",
     "text": [
      "ApP\n"
     ]
    }
   ],
   "source": [
    "word = list(input())\n",
    "\n",
    "word[0] = word[0].upper()\n",
    "print(''.join(word))"
   ]
  },
  {
   "cell_type": "markdown",
   "metadata": {},
   "source": [
    "## 20. C+="
   ]
  },
  {
   "cell_type": "code",
   "execution_count": null,
   "metadata": {},
   "outputs": [
    {
     "name": "stdout",
     "output_type": "stream",
     "text": [
      "1\n"
     ]
    }
   ],
   "source": [
    "t = int(input())\n",
    "\n",
    "for i in range(t):\n",
    "    a, b , n = map(int,input().split())\n",
    "    count = 0\n",
    "    while a <= n or b <= n:\n",
    "        if (a > b):\n",
    "            b += a\n",
    "            count += 1\n",
    "        else:\n",
    "            a += b\n",
    "            count += 1\n",
    "        \n",
    "        if (a> n or b>n):\n",
    "            break\n",
    "        \n",
    "    \n",
    "    print(count)"
   ]
  },
  {
   "cell_type": "markdown",
   "metadata": {},
   "source": [
    "## 21. Helpful Maths"
   ]
  },
  {
   "cell_type": "code",
   "execution_count": null,
   "metadata": {},
   "outputs": [
    {
     "name": "stdout",
     "output_type": "stream",
     "text": [
      "2\n"
     ]
    }
   ],
   "source": [
    "math = input()\n",
    "\n",
    "math_arr = [int(x) for x in list(math.split(\"+\"))]\n",
    "\n",
    "math_arr.sort()\n",
    "\n",
    "print(\"+\".join(str(x) for x in math_arr))"
   ]
  },
  {
   "cell_type": "markdown",
   "metadata": {},
   "source": [
    "## 22. Maximum Increase\n"
   ]
  },
  {
   "cell_type": "code",
   "execution_count": null,
   "metadata": {},
   "outputs": [
    {
     "name": "stdout",
     "output_type": "stream",
     "text": [
      "5\n"
     ]
    }
   ],
   "source": [
    "n = int(input())\n",
    "nums = list(map(int, input().split()))\n",
    "\n",
    "max_length = 1\n",
    "max = 1\n",
    "\n",
    "for i in range(len(nums) - 1):\n",
    "    if nums[i] < nums[i+1]:\n",
    "        max += 1\n",
    "    else:\n",
    "        max = 1\n",
    "    if max > max_length:\n",
    "        max_length = max\n",
    "print(max_length)"
   ]
  },
  {
   "cell_type": "markdown",
   "metadata": {},
   "source": [
    "## 23. Gennady and a Card Game"
   ]
  },
  {
   "cell_type": "code",
   "execution_count": null,
   "metadata": {},
   "outputs": [
    {
     "name": "stdout",
     "output_type": "stream",
     "text": [
      "YES\n"
     ]
    }
   ],
   "source": [
    "table_card = input()\n",
    "person_card = list(map(str,input().split()))\n",
    "\n",
    "table_card_arr = list(table_card)\n",
    "\n",
    "\n",
    "def playCard(person_card, table_card_arr):\n",
    "    for card in person_card:\n",
    "        if table_card_arr[0] in list(card) or table_card_arr[1] in list(card):\n",
    "            return \"YES\"\n",
    "    \n",
    "    return \"NO\"\n",
    "\n",
    "print(playCard(person_card, table_card_arr))\n",
    "    "
   ]
  },
  {
   "cell_type": "markdown",
   "metadata": {},
   "source": [
    "## 24. Vanya and Cubes"
   ]
  },
  {
   "cell_type": "code",
   "execution_count": null,
   "metadata": {},
   "outputs": [
    {
     "name": "stdout",
     "output_type": "stream",
     "text": [
      "3\n"
     ]
    }
   ],
   "source": [
    "n = int(input())\n",
    "\n",
    "sum = 0\n",
    "for i in range(1, n + 1):\n",
    "    k = i \n",
    "    while k > 0:\n",
    "        sum += k\n",
    "        k -= 1\n",
    "    if sum >= n:\n",
    "        break\n",
    "\n",
    "if sum > n:\n",
    "    print(i-1)\n",
    "else:\n",
    "    print(i)"
   ]
  },
  {
   "cell_type": "markdown",
   "metadata": {},
   "source": [
    "## 25. Boring Apartments"
   ]
  },
  {
   "cell_type": "code",
   "execution_count": null,
   "metadata": {},
   "outputs": [
    {
     "name": "stdout",
     "output_type": "stream",
     "text": [
      "13\n",
      "90\n",
      "1\n",
      "53\n"
     ]
    }
   ],
   "source": [
    "t = int(input())\n",
    "\n",
    "for test in range(t):\n",
    "    n = input()\n",
    "    sum = 0\n",
    "    length = len(n)\n",
    "\n",
    "    while length > 0:\n",
    "        sum += length\n",
    "        length -= 1\n",
    "\n",
    "    sum +=( int(n[0]) - 1 ) * 10\n",
    "\n",
    "    print(sum)    "
   ]
  },
  {
   "cell_type": "markdown",
   "metadata": {},
   "source": [
    "# Codeforce - Math"
   ]
  },
  {
   "cell_type": "markdown",
   "metadata": {},
   "source": [
    "### 1. Ichihime and Triangle"
   ]
  },
  {
   "cell_type": "code",
   "execution_count": 12,
   "metadata": {},
   "outputs": [
    {
     "name": "stdout",
     "output_type": "stream",
     "text": [
      "1 3 3\n"
     ]
    }
   ],
   "source": [
    "                   \n",
    "t = int(input())\n",
    "for test in range(t):\n",
    "    a, b, c, d = map(int, input().split())\n",
    "    print(b, c , c)\n"
   ]
  },
  {
   "cell_type": "markdown",
   "metadata": {},
   "source": [
    "### 2. LCM Problem"
   ]
  },
  {
   "cell_type": "code",
   "execution_count": 3,
   "metadata": {},
   "outputs": [
    {
     "name": "stdout",
     "output_type": "stream",
     "text": [
      "1 2\n",
      "13 26\n"
     ]
    }
   ],
   "source": [
    "tests = int(input())\n",
    "\n",
    "for t in range(tests):\n",
    "    l, r = map(int,input().split())\n",
    "    \n",
    "    if 2 * l <= r:\n",
    "        print(l, 2*l)\n",
    "    else:\n",
    "        print(-1,-1)"
   ]
  },
  {
   "cell_type": "markdown",
   "metadata": {},
   "source": [
    "### 3. Mahmoud and Ehab and the even-odd game"
   ]
  },
  {
   "cell_type": "code",
   "execution_count": 3,
   "metadata": {},
   "outputs": [
    {
     "name": "stdout",
     "output_type": "stream",
     "text": [
      "Mahmoud\n"
     ]
    }
   ],
   "source": [
    "n = int(input())\n",
    "\n",
    "if (n % 2):\n",
    "    print(\"Ehab\")\n",
    "else:\n",
    "    print(\"Mahmoud\")"
   ]
  },
  {
   "cell_type": "markdown",
   "metadata": {},
   "source": [
    "### 4. Array with Odd Sum"
   ]
  },
  {
   "cell_type": "code",
   "execution_count": 6,
   "metadata": {},
   "outputs": [
    {
     "name": "stdout",
     "output_type": "stream",
     "text": [
      "YES\n",
      "NO\n",
      "NO\n"
     ]
    }
   ],
   "source": [
    "def oddSum(nums, n):\n",
    "    odd = 0\n",
    "    even = 0\n",
    "    \n",
    "    for num in nums:\n",
    "        if num % 2 == 0:\n",
    "            even += 1\n",
    "        else:\n",
    "            odd += 1\n",
    "    \n",
    "    if odd == 0 or (even == 0 and n % 2 == 0):\n",
    "        return \"NO\"\n",
    "    else:\n",
    "        return \"YES\"\n",
    "    \n",
    "    \n",
    "tests = int(input())\n",
    "for t in range(tests):\n",
    "    n = int(input())\n",
    "    nums = list(map(int,input().split()))\n",
    "    print(oddSum(nums, n))\n"
   ]
  },
  {
   "cell_type": "markdown",
   "metadata": {},
   "source": [
    "### 5. Floor Number"
   ]
  },
  {
   "cell_type": "code",
   "execution_count": 6,
   "metadata": {},
   "outputs": [
    {
     "name": "stdout",
     "output_type": "stream",
     "text": [
      "3\n",
      "1\n",
      "5\n",
      "77\n"
     ]
    }
   ],
   "source": [
    "import math\n",
    "def floorNumber(n, x):\n",
    "    if n <= 2:\n",
    "        return 1\n",
    "    num_floor = math.ceil((n-2)/x) + 1\n",
    "    return(num_floor)\n",
    "tests = int(input())\n",
    "for t in range(tests):\n",
    "    n, x = map(int, input().split())\n",
    "    print(floorNumber(n, x))\n",
    "        "
   ]
  },
  {
   "cell_type": "markdown",
   "metadata": {},
   "source": [
    "### 6. Three Pairwise Maximums"
   ]
  },
  {
   "cell_type": "code",
   "execution_count": 1,
   "metadata": {},
   "outputs": [
    {
     "name": "stdout",
     "output_type": "stream",
     "text": [
      "YES\n",
      "2 2 3\n",
      "YES\n",
      "100 100 100\n",
      "NO\n",
      "NO\n",
      "YES\n",
      "1 1 1000\n"
     ]
    }
   ],
   "source": [
    "tests = int(input())\n",
    "\n",
    "for t in range(tests):\n",
    "    x, y, z = map(int, input().split())\n",
    "    if x == y:\n",
    "        if x >= z:\n",
    "            print(\"YES\")\n",
    "            print(z, z, x)\n",
    "        else:\n",
    "            print(\"NO\")\n",
    "    elif x == z:\n",
    "        if x >= y:\n",
    "            print(\"YES\")\n",
    "            print(y, y, x)\n",
    "        else:\n",
    "            print(\"NO\")\n",
    "    elif y == z:\n",
    "        if y >= x:\n",
    "            print(\"YES\")\n",
    "            print(x, x, y)\n",
    "        else:\n",
    "            print(\"NO\")\n",
    "    else:\n",
    "        print(\"NO\")"
   ]
  },
  {
   "cell_type": "markdown",
   "metadata": {},
   "source": [
    "### 7. Park Lighting"
   ]
  },
  {
   "cell_type": "code",
   "execution_count": 5,
   "metadata": {},
   "outputs": [
    {
     "name": "stdout",
     "output_type": "stream",
     "text": [
      "10\n"
     ]
    }
   ],
   "source": [
    "import math\n",
    "tests = int(input())\n",
    "\n",
    "for t in range(tests):\n",
    "    n, m = map(int, input().split())\n",
    "    min_lamps = math.ceil(n*m / 2)\n",
    "    print(min_lamps)"
   ]
  },
  {
   "cell_type": "markdown",
   "metadata": {},
   "source": [
    "### 8. Collecting Coins"
   ]
  },
  {
   "cell_type": "code",
   "execution_count": 13,
   "metadata": {},
   "outputs": [
    {
     "name": "stdout",
     "output_type": "stream",
     "text": [
      "NO\n"
     ]
    }
   ],
   "source": [
    "tests = int(input())\n",
    "\n",
    "for t in range(tests):\n",
    "    a, b, c, n= map(int, input().split())\n",
    "    \n",
    "    max_num = max([a,b,c])\n",
    "    \n",
    "    n = n - ((max_num - a) + (max_num - b) + (max_num - c))\n",
    "    if (n % 3 == 0 and n >= 0):\n",
    "        print(\"YES\")\n",
    "    else:\n",
    "        print(\"NO\")"
   ]
  },
  {
   "cell_type": "markdown",
   "metadata": {},
   "source": [
    "### 9. Required Remainder"
   ]
  },
  {
   "cell_type": "code",
   "execution_count": 19,
   "metadata": {},
   "outputs": [
    {
     "name": "stdout",
     "output_type": "stream",
     "text": [
      "12339\n",
      "0\n",
      "15\n",
      "54306\n",
      "999999995\n",
      "185\n",
      "999999998\n"
     ]
    }
   ],
   "source": [
    "tests = int(input())\n",
    "\n",
    "for t in range(tests):\n",
    "    x, y, n = map(int, input().split())\n",
    "    \n",
    "    remainder = n % x\n",
    "    max_k = (n - remainder) + y\n",
    "    \n",
    "    if max_k <= n:\n",
    "        print(max_k)\n",
    "    else:\n",
    "        max_k = ((n - remainder) - x) + y\n",
    "        print(max_k)"
   ]
  },
  {
   "cell_type": "markdown",
   "metadata": {},
   "source": [
    "### 10. Magical Sticks"
   ]
  },
  {
   "cell_type": "code",
   "execution_count": null,
   "metadata": {},
   "outputs": [],
   "source": [
    "import math\n",
    "\n",
    "def max_sticks(n):\n",
    "    max_equal_length_sticks = math.ceil(n / 2)\n",
    "    return max_equal_length_sticks\n",
    "\n",
    "\n",
    "t = int(input())\n",
    "\n",
    "\n",
    "for _ in range(t):\n",
    "    n = int(input())\n",
    "    result = max_sticks(n)\n",
    "    print(result)"
   ]
  },
  {
   "cell_type": "markdown",
   "metadata": {},
   "source": [
    "### 11. Minimal Square"
   ]
  },
  {
   "cell_type": "code",
   "execution_count": 21,
   "metadata": {},
   "outputs": [
    {
     "name": "stdout",
     "output_type": "stream",
     "text": [
      "100\n"
     ]
    }
   ],
   "source": [
    "def minimal_square(a, b):\n",
    "    max_val = max(a,b)\n",
    "    min_val = min(a,b)\n",
    "\n",
    "    return max(min_val*2, max_val) ** 2\n",
    "\n",
    "\n",
    "\n",
    "# minimal_square(7, 5)\n",
    "t = int(input())\n",
    "\n",
    "for _ in range(t):\n",
    "    a, b = map(int, input().split())\n",
    "    print(minimal_square(a,b))\n"
   ]
  },
  {
   "cell_type": "markdown",
   "metadata": {},
   "source": [
    "### 12. Even Array"
   ]
  },
  {
   "cell_type": "code",
   "execution_count": 8,
   "metadata": {},
   "outputs": [
    {
     "name": "stdout",
     "output_type": "stream",
     "text": [
      "2\n"
     ]
    }
   ],
   "source": [
    "def evenArray(arr, n):\n",
    "    # stack = []\n",
    "    # count = 0\n",
    "    \n",
    "    # for i in range(n):\n",
    "    #     if(i % 2 == arr[i] % 2):\n",
    "    #         continue\n",
    "        \n",
    "    #     if(len(stack)==0):\n",
    "    #         if arr[i] % 2 == 0:\n",
    "    #             stack.append(\"E\")\n",
    "    #         else:\n",
    "    #             stack.append(\"O\")\n",
    "    #     elif(len(stack) > 0):\n",
    "    #         if(arr[i] % 2 == 0 and stack[-1] == \"O\"):\n",
    "    #             stack.pop()\n",
    "    #             count += 1\n",
    "    #         elif(arr[i] % 2 == 1 and stack[-1] == \"E\"):\n",
    "    #             stack.pop()\n",
    "    #             count += 1\n",
    "    #         else:\n",
    "    #             if arr[i] % 2 == 0:\n",
    "    #                 stack.append(\"E\")\n",
    "    #             else:\n",
    "    #                 stack.append(\"O\")\n",
    "    \n",
    "    # if(len(stack) > 0):\n",
    "    #     return -1\n",
    "    # else: return count\n",
    "    \n",
    "    odd = 0\n",
    "    even = 0\n",
    "    \n",
    "    for i in range(n):\n",
    "        if i % 2 != arr[i] % 2:\n",
    "            if arr[i] % 2 == 0:\n",
    "                even += 1\n",
    "            else:\n",
    "                odd += 1\n",
    "    \n",
    "    if odd - even == 0: return odd\n",
    "    else: return -1\n",
    "    \n",
    "\n",
    "t = int(input())\n",
    "for _ in range(t):\n",
    "    n = int(input())\n",
    "    arr = list(map(int, input().split()))\n",
    "    print(evenArray(arr, n))\n",
    "    \n",
    "# arr = [3, 7, 9, 2, 4, 6]\n",
    "# evenArray(arr, len(arr))\n",
    "    "
   ]
  },
  {
   "cell_type": "markdown",
   "metadata": {},
   "source": [
    "### 13. Most Unstable Array"
   ]
  },
  {
   "cell_type": "code",
   "execution_count": 1,
   "metadata": {},
   "outputs": [
    {
     "name": "stdout",
     "output_type": "stream",
     "text": [
      "0\n",
      "2\n",
      "10\n",
      "100000\n",
      "2000\n"
     ]
    }
   ],
   "source": [
    "t = int(input())\n",
    "\n",
    "for _ in range(t):\n",
    "    n, m = map(int, input().split())\n",
    "    if n == 1:\n",
    "        print(0)\n",
    "    elif n == 2:\n",
    "        print(m)\n",
    "    else:\n",
    "        print(2*m)"
   ]
  },
  {
   "cell_type": "markdown",
   "metadata": {},
   "source": [
    "### 14. Balanced Array"
   ]
  },
  {
   "cell_type": "code",
   "execution_count": 20,
   "metadata": {},
   "outputs": [
    {
     "name": "stdout",
     "output_type": "stream",
     "text": [
      "NO\n",
      "YES\n",
      "2 4 1 5 \n",
      "NO\n",
      "YES\n",
      "2 4 6 8 1 3 5 11 \n",
      "NO\n"
     ]
    }
   ],
   "source": [
    "def balanced(n):\n",
    "    multiple = n // 2\n",
    "    arr = []\n",
    "    if(multiple % 2 == 0):\n",
    "        sum = 0\n",
    "        for i in range(1, multiple + 1):\n",
    "            arr.append(2*i)\n",
    "            sum += 2*i\n",
    "        odd_sum = 0\n",
    "        for i in range(multiple - 1):\n",
    "            arr.append(2*i + 1)\n",
    "            odd_sum += 2*i + 1\n",
    "        arr.append(sum - odd_sum)\n",
    "        print(\"YES\")\n",
    "        for x in arr:\n",
    "            print(x, end=\" \")\n",
    "        print()  \n",
    "    else:\n",
    "        print(\"NO\")\n",
    "t = int(input())\n",
    "\n",
    "for _ in range(t):\n",
    "    n = int(input())\n",
    "    balanced(n)"
   ]
  },
  {
   "cell_type": "markdown",
   "metadata": {},
   "source": [
    "### 15. Buy a Shovel"
   ]
  },
  {
   "cell_type": "code",
   "execution_count": 3,
   "metadata": {},
   "outputs": [
    {
     "name": "stdout",
     "output_type": "stream",
     "text": [
      "2\n"
     ]
    }
   ],
   "source": [
    "n, k = map(int, input().split())\n",
    "\n",
    "count = 0\n",
    "\n",
    "i = 1\n",
    "while True:\n",
    "    if((n*i) % 10 == k or (n*i) %10 == 0):\n",
    "        count += 1\n",
    "        break\n",
    "    count += 1\n",
    "    i += 1\n",
    "print(count)"
   ]
  },
  {
   "cell_type": "markdown",
   "metadata": {},
   "source": [
    "### 16. Elephant"
   ]
  },
  {
   "cell_type": "code",
   "execution_count": 2,
   "metadata": {},
   "outputs": [
    {
     "name": "stdout",
     "output_type": "stream",
     "text": [
      "3\n"
     ]
    }
   ],
   "source": [
    "x = int(input())\n",
    "\n",
    "if(x%5 == 0):\n",
    "    print(x//5)\n",
    "else:\n",
    "    print(x//5 + 1) "
   ]
  },
  {
   "cell_type": "markdown",
   "metadata": {},
   "source": [
    "### 17. Restoring Three Numbers"
   ]
  },
  {
   "cell_type": "code",
   "execution_count": 9,
   "metadata": {},
   "outputs": [
    {
     "name": "stdout",
     "output_type": "stream",
     "text": [
      "100 1 100\n"
     ]
    }
   ],
   "source": [
    "arr = list(map(int, input().split()))\n",
    "\n",
    "arr.sort()\n",
    "\n",
    "c = arr[3] - arr[0]\n",
    "a = arr[2] - c\n",
    "b = arr[1] - c\n",
    "\n",
    "print(a,b,c)\n",
    "    "
   ]
  },
  {
   "cell_type": "markdown",
   "metadata": {},
   "source": [
    "### 18. Yet Another Two Integers Problem"
   ]
  },
  {
   "cell_type": "code",
   "execution_count": 1,
   "metadata": {},
   "outputs": [
    {
     "name": "stdout",
     "output_type": "stream",
     "text": [
      "0\n",
      "3\n",
      "2\n",
      "92\n",
      "87654322\n",
      "9150\n"
     ]
    }
   ],
   "source": [
    "t = int(input())\n",
    "\n",
    "for _ in range(t):\n",
    "    a, b = map(int,input().split())\n",
    "    diff = abs(a-b)\n",
    "    \n",
    "    last_digit = diff % 10\n",
    "    diff = diff // 10\n",
    "    \n",
    "    if last_digit != 0:\n",
    "        print(diff + 1)\n",
    "    else:\n",
    "        print(diff)"
   ]
  },
  {
   "cell_type": "markdown",
   "metadata": {},
   "source": [
    "### 19. Candies and Two Sisters"
   ]
  },
  {
   "cell_type": "code",
   "execution_count": 1,
   "metadata": {},
   "outputs": [
    {
     "name": "stdout",
     "output_type": "stream",
     "text": [
      "3\n",
      "0\n",
      "0\n",
      "1\n",
      "999999999\n",
      "381621773\n"
     ]
    }
   ],
   "source": [
    "import math\n",
    "t = int(input())\n",
    "\n",
    "for _ in range(t):\n",
    "    n = int(input())\n",
    "    \n",
    "    print(math.ceil(n/2) - 1)\n",
    "    "
   ]
  },
  {
   "cell_type": "markdown",
   "metadata": {},
   "source": [
    "### 20. Domino piling"
   ]
  },
  {
   "cell_type": "code",
   "execution_count": 2,
   "metadata": {},
   "outputs": [
    {
     "name": "stdout",
     "output_type": "stream",
     "text": [
      "4\n"
     ]
    }
   ],
   "source": [
    "n, m = map(int, input().split())\n",
    "\n",
    "print((m*n)//2)\n"
   ]
  },
  {
   "cell_type": "markdown",
   "metadata": {},
   "source": [
    "### 21. Divisibility Problem"
   ]
  },
  {
   "cell_type": "code",
   "execution_count": 8,
   "metadata": {},
   "outputs": [
    {
     "name": "stdout",
     "output_type": "stream",
     "text": [
      "2\n",
      "5\n",
      "4\n",
      "333\n",
      "0\n"
     ]
    }
   ],
   "source": [
    "t = int(input())\n",
    "\n",
    "for _ in range(t):\n",
    "    a,b = map(int, input().split())\n",
    "    \n",
    "    if(a % b):\n",
    "        print(b - (a%b))\n",
    "    else:\n",
    "        print(0)"
   ]
  },
  {
   "cell_type": "markdown",
   "metadata": {},
   "source": [
    "### 22. Magic Stick"
   ]
  },
  {
   "cell_type": "code",
   "execution_count": 6,
   "metadata": {},
   "outputs": [
    {
     "name": "stdout",
     "output_type": "stream",
     "text": [
      "YES\n",
      "YES\n",
      "NO\n",
      "YES\n",
      "NO\n",
      "YES\n",
      "YES\n"
     ]
    }
   ],
   "source": [
    "t = int(input())\n",
    "\n",
    "for _ in range(t):\n",
    "    x, y = map(int, input().split())\n",
    "    \n",
    "    if(x == 2 and y <= 3):\n",
    "        print(\"YES\")\n",
    "    elif(y <= x or x > 3):\n",
    "        print(\"YES\")\n",
    "    else:\n",
    "        print(\"NO\")\n",
    "    "
   ]
  },
  {
   "cell_type": "markdown",
   "metadata": {},
   "source": [
    "# Codeforce - Binary Search"
   ]
  },
  {
   "cell_type": "markdown",
   "metadata": {},
   "source": [
    "\n",
    "### 1. Pipeline"
   ]
  },
  {
   "cell_type": "code",
   "execution_count": null,
   "metadata": {},
   "outputs": [
    {
     "name": "stdout",
     "output_type": "stream",
     "text": [
      "2\n"
     ]
    }
   ],
   "source": [
    "def sum(k):\n",
    "    return (k*(k+1)) // 2\n",
    "\n",
    "\n",
    "def min_pipeline(n,k):\n",
    "    n -= 1\n",
    "    total_sum = sum(k-1)\n",
    "    if total_sum < n:\n",
    "        return -1\n",
    "    \n",
    "    l, r = 0, k-1\n",
    "    \n",
    "    while l <= r:\n",
    "        mid = (l + r)//2\n",
    "        if (total_sum - sum(mid) >= n):\n",
    "            l = mid + 1\n",
    "        else:\n",
    "            r = mid - 1\n",
    "    return k-1-r\n",
    "\n",
    "\n",
    "\n",
    "n, k = map(int, input().split())\n",
    "print(min_pipeline(n,k))\n",
    "\n"
   ]
  },
  {
   "cell_type": "markdown",
   "metadata": {},
   "source": [
    "### 2. Hamburgers"
   ]
  },
  {
   "cell_type": "code",
   "execution_count": 3,
   "metadata": {},
   "outputs": [
    {
     "name": "stdout",
     "output_type": "stream",
     "text": [
      "200000000001\n"
     ]
    }
   ],
   "source": [
    "burger = input()\n",
    "nb, ns, nc = map(int, input().split())\n",
    "pb, ps, pc = map(int, input().split())\n",
    "r = int(input())\n",
    "\n",
    "b = 0\n",
    "s = 0\n",
    "c = 0\n",
    "\n",
    "for char in burger:\n",
    "    if char == \"B\":\n",
    "        b += 1\n",
    "    elif char == \"S\":\n",
    "        s += 1\n",
    "    else:\n",
    "        c += 1\n",
    "\n",
    "\n",
    "\n",
    "lowest_burger = 0\n",
    "highest_burger = r + 100\n",
    "ans = 0\n",
    "while lowest_burger <= highest_burger:\n",
    "    mid = (lowest_burger + highest_burger) // 2\n",
    "\n",
    "    max_b = max(mid * b - nb, 0)\n",
    "    max_s = max(mid * s - ns, 0)\n",
    "    max_c = max(mid * c - nc, 0)\n",
    "\n",
    "    total_cost = (max_b * pb + max_s * ps + max_c * pc)\n",
    "\n",
    "    if total_cost == r:\n",
    "        ans = mid\n",
    "        break\n",
    "    elif total_cost < r:\n",
    "        lowest_burger = mid + 1\n",
    "        ans = mid\n",
    "    else:\n",
    "        highest_burger = mid - 1\n",
    "\n",
    "print(ans)\n",
    "      \n",
    "  "
   ]
  },
  {
   "cell_type": "code",
   "execution_count": null,
   "metadata": {},
   "outputs": [],
   "source": []
  }
 ],
 "metadata": {
  "kernelspec": {
   "display_name": "Python 3",
   "language": "python",
   "name": "python3"
  },
  "language_info": {
   "codemirror_mode": {
    "name": "ipython",
    "version": 3
   },
   "file_extension": ".py",
   "mimetype": "text/x-python",
   "name": "python",
   "nbconvert_exporter": "python",
   "pygments_lexer": "ipython3",
   "version": "3.10.11"
  }
 },
 "nbformat": 4,
 "nbformat_minor": 2
}
