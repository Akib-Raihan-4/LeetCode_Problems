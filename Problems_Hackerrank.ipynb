{
 "cells": [
  {
   "cell_type": "code",
   "execution_count": 22,
   "metadata": {},
   "outputs": [],
   "source": [
    "def staircase(n):\n",
    "    for i in range(1, n+1):\n",
    "        for j in range(n-i):\n",
    "            print(\" \", end=\"\")\n",
    "        k = i\n",
    "        for stair in range(k):\n",
    "            print(\"#\", end=\"\")\n",
    "        print('')\n",
    "        \n"
   ]
  },
  {
   "cell_type": "code",
   "execution_count": 23,
   "metadata": {},
   "outputs": [
    {
     "name": "stdout",
     "output_type": "stream",
     "text": [
      "     #\n",
      "    ##\n",
      "   ###\n",
      "  ####\n",
      " #####\n",
      "######\n"
     ]
    }
   ],
   "source": [
    "n = 6\n",
    "staircase(n)"
   ]
  },
  {
   "cell_type": "code",
   "execution_count": 28,
   "metadata": {},
   "outputs": [],
   "source": [
    "def breakingRecords(scores):\n",
    "    minScore = maxScore = scores[0]\n",
    "\n",
    "    min = max = 0\n",
    "\n",
    "    for i in range(len(scores)):\n",
    "        if scores[i] > maxScore:\n",
    "            max += 1\n",
    "            maxScore = scores[i]\n",
    "        elif scores[i] < minScore:\n",
    "            min += 1\n",
    "            minScore = scores[i]\n",
    "    \n",
    "    return [max, min]\n",
    "\n"
   ]
  },
  {
   "cell_type": "code",
   "execution_count": 29,
   "metadata": {},
   "outputs": [
    {
     "data": {
      "text/plain": [
       "[2, 4]"
      ]
     },
     "execution_count": 29,
     "metadata": {},
     "output_type": "execute_result"
    }
   ],
   "source": [
    "n = [10, 5, 20, 20, 4, 5, 2, 25, 1]\n",
    "breakingRecords(n)"
   ]
  },
  {
   "cell_type": "code",
   "execution_count": 32,
   "metadata": {},
   "outputs": [],
   "source": [
    "def plusMinus(arr):\n",
    "    pos = neg = zero = 0\n",
    "\n",
    "    for num in arr:\n",
    "        if num < 0:\n",
    "            neg += 1\n",
    "        elif num > 0:\n",
    "            pos += 1\n",
    "        else:\n",
    "            zero += 1\n",
    "    \n",
    "    pos_ratio = round(pos / len(arr), 6)\n",
    "    neg_ratio = round(neg / len(arr), 6)\n",
    "    zero_ratio = round(zero / len(arr), 6)\n",
    "    \n",
    "    print(pos_ratio)\n",
    "    print(neg_ratio)\n",
    "    print(zero_ratio)\n"
   ]
  },
  {
   "cell_type": "code",
   "execution_count": 33,
   "metadata": {},
   "outputs": [
    {
     "name": "stdout",
     "output_type": "stream",
     "text": [
      "0.5\n",
      "0.333333\n"
     ]
    }
   ],
   "source": [
    "arr = [-4, 3, -9, 0, 4, 1]\n",
    "plusMinus(arr)"
   ]
  },
  {
   "cell_type": "code",
   "execution_count": 34,
   "metadata": {},
   "outputs": [],
   "source": [
    "def compareTriplets(a,b):\n",
    "    alice_score = bob_score = 0\n",
    "\n",
    "    for i in range(3):\n",
    "        if a[i] > b[i]:\n",
    "            alice_score += 1\n",
    "        elif b[i] > a[i]:\n",
    "            bob_score += 1\n",
    "    return [alice_score, bob_score]"
   ]
  },
  {
   "cell_type": "code",
   "execution_count": 36,
   "metadata": {},
   "outputs": [
    {
     "data": {
      "text/plain": [
       "[1, 1]"
      ]
     },
     "execution_count": 36,
     "metadata": {},
     "output_type": "execute_result"
    }
   ],
   "source": [
    "a = [5,6,7]\n",
    "b = [3, 6, 10]\n",
    "compareTriplets(a,b)"
   ]
  },
  {
   "cell_type": "code",
   "execution_count": 39,
   "metadata": {},
   "outputs": [],
   "source": [
    "def birthdayCakeCandles(candles):\n",
    "    biggest_candle = max(candles)\n",
    "    count = 0\n",
    "    for candle in candles:\n",
    "        if candle == biggest_candle:\n",
    "            count += 1\n",
    "    return count"
   ]
  },
  {
   "cell_type": "code",
   "execution_count": 40,
   "metadata": {},
   "outputs": [
    {
     "data": {
      "text/plain": [
       "2"
      ]
     },
     "execution_count": 40,
     "metadata": {},
     "output_type": "execute_result"
    }
   ],
   "source": [
    "candles = [3,2,1,3]\n",
    "birthdayCakeCandles(candles)"
   ]
  },
  {
   "cell_type": "code",
   "execution_count": 47,
   "metadata": {},
   "outputs": [],
   "source": [
    "def gradingStudents(grades):\n",
    "    for i in range(len(grades)):\n",
    "        if grades[i] < 38:\n",
    "            continue\n",
    "        next_multiple_5 = ((grades[i] // 5 )+ 1) * 5\n",
    "        \n",
    "        if next_multiple_5 - grades[i] < 3:\n",
    "            grades[i] = next_multiple_5\n",
    "    return grades"
   ]
  },
  {
   "cell_type": "code",
   "execution_count": 48,
   "metadata": {},
   "outputs": [
    {
     "data": {
      "text/plain": [
       "[75, 67, 40, 33]"
      ]
     },
     "execution_count": 48,
     "metadata": {},
     "output_type": "execute_result"
    }
   ],
   "source": [
    "grades = [73, 67, 38,33]\n",
    "gradingStudents(grades)"
   ]
  },
  {
   "cell_type": "code",
   "execution_count": 70,
   "metadata": {},
   "outputs": [],
   "source": [
    "def diagonalDifference(arr):\n",
    "    left_right = 0\n",
    "    right_left = 0\n",
    "    for i in range(len(arr)):\n",
    "        for j in range(len(arr[0])):\n",
    "            if i == j:\n",
    "                left_right += arr[i][j]\n",
    "            if j == len(arr[0]) - 1 - i:\n",
    "                right_left += arr[i][j]\n",
    "\n",
    "    return abs(left_right - right_left)"
   ]
  },
  {
   "cell_type": "code",
   "execution_count": 71,
   "metadata": {},
   "outputs": [
    {
     "data": {
      "text/plain": [
       "15"
      ]
     },
     "execution_count": 71,
     "metadata": {},
     "output_type": "execute_result"
    }
   ],
   "source": [
    "arr = [[11, 2, 4],\n",
    "       [4, 5, 6],\n",
    "       [10, 8, -12]]\n",
    "\n",
    "diagonalDifference(arr)"
   ]
  },
  {
   "cell_type": "code",
   "execution_count": 86,
   "metadata": {},
   "outputs": [],
   "source": [
    "def taumBday(b, w, bc, wc, z):\n",
    "    min = b * bc + w * wc\n",
    "    \n",
    "    total = min\n",
    "    if wc > z and wc > bc:\n",
    "        total = b * bc + w * (bc+z)\n",
    "    elif bc > z and bc > wc:\n",
    "        total = b * (wc+z) + w * wc\n",
    "    \n",
    "    if total < min:\n",
    "        min = total\n",
    "    return min"
   ]
  },
  {
   "cell_type": "code",
   "execution_count": 88,
   "metadata": {},
   "outputs": [
    {
     "data": {
      "text/plain": [
       "20"
      ]
     },
     "execution_count": 88,
     "metadata": {},
     "output_type": "execute_result"
    }
   ],
   "source": [
    "b = 10\n",
    "w = 10\n",
    "bc = 1\n",
    "wc = 1\n",
    "z = 1\n",
    "\n",
    "taumBday(b, w, bc, wc, z)"
   ]
  },
  {
   "cell_type": "code",
   "execution_count": 111,
   "metadata": {},
   "outputs": [],
   "source": [
    "def minimumDistances(a):\n",
    "    last_seen_index = {}\n",
    "    min_distance = float('inf')\n",
    "\n",
    "    for i, value in enumerate(a):\n",
    "        if value in last_seen_index:\n",
    "            distance = i - last_seen_index[value]\n",
    "            if distance < min_distance:\n",
    "                min_distance = distance\n",
    "        last_seen_index[value] = i\n",
    "\n",
    "    if min_distance == float('inf'):\n",
    "        return -1\n",
    "    return min_distance\n"
   ]
  },
  {
   "cell_type": "code",
   "execution_count": 113,
   "metadata": {},
   "outputs": [
    {
     "data": {
      "text/plain": [
       "-1"
      ]
     },
     "execution_count": 113,
     "metadata": {},
     "output_type": "execute_result"
    }
   ],
   "source": [
    "arr = [1, 2, 3, 4, 10]\n",
    "minimumDistances(arr)"
   ]
  },
  {
   "cell_type": "code",
   "execution_count": 8,
   "metadata": {},
   "outputs": [],
   "source": [
    "def flatlandSpaceStations(n,c):\n",
    "    min_distances = []\n",
    "\n",
    "    for i in range(n):\n",
    "        min_distance = float('inf')\n",
    "        for spaceStation in c:\n",
    "            if abs(i-spaceStation) < min_distance:\n",
    "                min_distance = abs(i-spaceStation)\n",
    "        min_distances.append(min_distance)\n",
    "    return max(min_distances)"
   ]
  },
  {
   "cell_type": "code",
   "execution_count": 12,
   "metadata": {},
   "outputs": [
    {
     "data": {
      "text/plain": [
       "0"
      ]
     },
     "execution_count": 12,
     "metadata": {},
     "output_type": "execute_result"
    }
   ],
   "source": [
    "n = 6\n",
    "c = [0, 1, 2, 3, 4, 5]\n",
    "flatlandSpaceStations(n, c)"
   ]
  },
  {
   "cell_type": "code",
   "execution_count": 11,
   "metadata": {},
   "outputs": [],
   "source": [
    "def flatlandSpaceStations(n, c):\n",
    "    c.sort()\n",
    "    max_distance = 0\n",
    "\n",
    "    max_distance = max(max_distance, c[0])\n",
    "\n",
    "    for i in range(1, len(c)):\n",
    "        max_distance = max(max_distance, (c[i] - c[i - 1]) // 2)\n",
    "\n",
    "    max_distance = max(max_distance, n - 1 - c[-1])\n",
    "\n",
    "    return max_distance\n"
   ]
  },
  {
   "cell_type": "code",
   "execution_count": 13,
   "metadata": {},
   "outputs": [],
   "source": [
    "def nonDivisibleSubset(k, S):\n",
    "    # Create a dictionary to store the count of remainders\n",
    "    remainders_count = {i: 0 for i in range(k)}\n",
    "\n",
    "    # Count the remainders of each element in the set\n",
    "    for num in S:\n",
    "        remainders_count[num % k] += 1\n",
    "\n",
    "    # Initialize the length of the maximal subset\n",
    "    length = 0\n",
    "\n",
    "    # If k is even, include only one element with remainder k//2\n",
    "    if k % 2 == 0:\n",
    "        length += min(remainders_count[k // 2], 1)\n",
    "        remainders_count[k // 2] = 0\n",
    "\n",
    "    # Include only one element with remainder 0\n",
    "    length += min(remainders_count[0], 1)\n",
    "    remainders_count[0] = 0\n",
    "\n",
    "    # Include elements with their complementary remainders\n",
    "    for i in range(1, k // 2 + 1):\n",
    "        length += max(remainders_count[i], remainders_count[k - i])\n",
    "        remainders_count[i] = 0\n",
    "        remainders_count[k - i] = 0\n",
    "\n",
    "    return length"
   ]
  },
  {
   "cell_type": "code",
   "execution_count": 14,
   "metadata": {},
   "outputs": [
    {
     "data": {
      "text/plain": [
       "3"
      ]
     },
     "execution_count": 14,
     "metadata": {},
     "output_type": "execute_result"
    }
   ],
   "source": [
    "k = 3\n",
    "s = [1, 7, 2, 4]\n",
    "nonDivisibleSubset(k, s)"
   ]
  },
  {
   "cell_type": "code",
   "execution_count": 27,
   "metadata": {},
   "outputs": [],
   "source": [
    "def superDigit(n, k):\n",
    "    if len(n) == 1:\n",
    "        return int(n)\n",
    "    \n",
    "    sum = 0\n",
    "    for num in n:\n",
    "        sum += int(num)\n",
    "    sum = sum * k\n",
    "    \n",
    "    return superDigit(str(sum), 1)"
   ]
  },
  {
   "cell_type": "code",
   "execution_count": 28,
   "metadata": {},
   "outputs": [
    {
     "data": {
      "text/plain": [
       "8"
      ]
     },
     "execution_count": 28,
     "metadata": {},
     "output_type": "execute_result"
    }
   ],
   "source": [
    "n = str(9875)\n",
    "k = 4\n",
    "superDigit(n, k)"
   ]
  },
  {
   "cell_type": "code",
   "execution_count": 9,
   "metadata": {},
   "outputs": [
    {
     "data": {
      "text/plain": [
       "39"
      ]
     },
     "execution_count": 9,
     "metadata": {},
     "output_type": "execute_result"
    }
   ],
   "source": [
    "n =  str(9875)\n",
    "sum = \n",
    "for num in n*k:\n",
    "    sum += int(num)\n",
    "sum"
   ]
  },
  {
   "cell_type": "code",
   "execution_count": 34,
   "metadata": {},
   "outputs": [],
   "source": [
    "def passwordCracker(password, loginAttempt):\n",
    "    pass"
   ]
  },
  {
   "cell_type": "code",
   "execution_count": 35,
   "metadata": {},
   "outputs": [],
   "source": [
    "password = [\"because\", \"can\", \"do\", \"must\", \"we\", \"what\" ]\n",
    "loginAttempt = \"wedowhatwemustbecausewecan\"\n",
    "passwordCracker(password, loginAttempt)"
   ]
  },
  {
   "cell_type": "code",
   "execution_count": 37,
   "metadata": {},
   "outputs": [
    {
     "data": {
      "text/plain": [
       "True"
      ]
     },
     "execution_count": 37,
     "metadata": {},
     "output_type": "execute_result"
    }
   ],
   "source": [
    "loginAttempt.startswith(password[4])"
   ]
  },
  {
   "cell_type": "code",
   "execution_count": null,
   "metadata": {},
   "outputs": [
    {
     "ename": "",
     "evalue": "",
     "output_type": "error",
     "traceback": [
      "\u001b[1;31mThe Kernel crashed while executing code in the the current cell or a previous cell. Please review the code in the cell(s) to identify a possible cause of the failure. Click <a href='https://aka.ms/vscodeJupyterKernelCrash'>here</a> for more info. View Jupyter <a href='command:jupyter.viewOutput'>log</a> for further details."
     ]
    }
   ],
   "source": [
    "from collections import Counter\n",
    "\n",
    "def are_anagrams(word1, word2):\n",
    "    return Counter(word1) == Counter(word2)\n",
    "\n",
    "def count_anagrams(word, wordSet, memo):\n",
    "    if word in memo:\n",
    "        return memo[word]\n",
    "\n",
    "    anagrams = [1] \n",
    "    for w in wordSet:\n",
    "        if are_anagrams(word, w):\n",
    "            anagrams.append(count_anagrams(w, wordSet, memo))\n",
    "\n",
    "    memo[word] = sum(anagrams)\n",
    "    return memo[word]\n",
    "\n",
    "def countSentences(wordSet, sentences):\n",
    "    result = []\n",
    "\n",
    "    for sentence in sentences:\n",
    "        words_in_sentence = sentence.split()\n",
    "        sentence_anagrams_count = 1  \n",
    "\n",
    "        for word in words_in_sentence:\n",
    "            if word in wordSet:\n",
    "                sentence_anagrams_count *= count_anagrams(word, wordSet, {})\n",
    "\n",
    "        result.append(sentence_anagrams_count)\n",
    "\n",
    "    return result\n",
    "\n",
    "# Example usage:\n",
    "wordSet = ['the', 'bats', 'tabs', 'in', 'cat', 'act']\n",
    "sentences = ['cat the bats', 'in the act', 'act tabs in']\n",
    "result = countSentences(wordSet, sentences)\n",
    "print(result)\n"
   ]
  },
  {
   "cell_type": "code",
   "execution_count": 11,
   "metadata": {},
   "outputs": [
    {
     "data": {
      "text/plain": [
       "3"
      ]
     },
     "execution_count": 11,
     "metadata": {},
     "output_type": "execute_result"
    }
   ],
   "source": [
    "wordSet = ['the', 'bats', 'tabs', 'in', 'cat', 'act']\n",
    "sentences = ['cat the bats', 'in the act', 'act tabs in']\n",
    "\n",
    "countSentences(wordSet, sentences)"
   ]
  },
  {
   "cell_type": "code",
   "execution_count": 12,
   "metadata": {},
   "outputs": [
    {
     "name": "stdout",
     "output_type": "stream",
     "text": [
      "Number of sentences that can be created: 0\n"
     ]
    }
   ],
   "source": [
    "def countSentences(wordSet, sentences):\n",
    "\n",
    "  sentence_count = 0\n",
    "\n",
    "  for sentence in sentences:\n",
    "    modified_sentence = sentence[:]\n",
    "\n",
    "    # Iterate over each word in the sentence\n",
    "    for i, word in enumerate(modified_sentence):\n",
    "      # Check if the word is an anagram of any word in the word set\n",
    "      for anagram in wordSet:\n",
    "        if sorted(word) == sorted(anagram) and word != anagram:\n",
    "          # Replace the word with its anagram in the modified sentence\n",
    "          modified_sentence = modified_sentence[:i] + anagram + modified_sentence[i+1:]\n",
    "    \n",
    "          sentence_count += 1\n",
    "\n",
    "  return sentence_count\n",
    "\n",
    "# Example usage\n",
    "wordSet = ['listen', 'silent', 'it', 'is']\n",
    "sentences = ['listen it is silent']\n",
    "\n",
    "# Call the function and print the result\n",
    "sentence_count = countSentences(wordSet, sentences)\n",
    "print(f\"Number of sentences that can be created: {sentence_count}\")\n"
   ]
  },
  {
   "cell_type": "code",
   "execution_count": 1,
   "metadata": {},
   "outputs": [
    {
     "name": "stdout",
     "output_type": "stream",
     "text": [
      "0\n"
     ]
    }
   ],
   "source": [
    "def countSentences(wordSet, sentences):\n",
    "    count = 0\n",
    "\n",
    "    for sentence in sentences:\n",
    "        words_in_sentence = sentence.split()\n",
    "        \n",
    "        # Check if any word in the sentence is in the wordSet\n",
    "        if any(word in wordSet for word in words_in_sentence):\n",
    "            count += 1\n",
    "\n",
    "    return count\n",
    "\n",
    "# Example usage:\n",
    "wordSet = {'apple', 'orange', 'banana'}\n",
    "sentences = [\"I like apples.\", \"Oranges are tasty.\", \"Bananas are yellow.\"]\n",
    "result = countSentences(wordSet, sentences)\n",
    "print(result)\n"
   ]
  },
  {
   "cell_type": "code",
   "execution_count": 3,
   "metadata": {},
   "outputs": [
    {
     "data": {
      "text/plain": [
       "[4, 2, 4]"
      ]
     },
     "execution_count": 3,
     "metadata": {},
     "output_type": "execute_result"
    }
   ],
   "source": [
    "from collections import Counter\n",
    "\n",
    "def are_anagrams(word1, word2):\n",
    "    return Counter(word1) == Counter(word2)\n",
    "\n",
    "def count_anagrams(wordSet):\n",
    "    anagram_count = Counter()\n",
    "\n",
    "    for word in wordSet:\n",
    "        anagram_count[tuple(sorted(word))] += 1\n",
    "\n",
    "    return anagram_count\n",
    "\n",
    "def countSentences(wordSet, sentences):\n",
    "    anagram_count = count_anagrams(wordSet)\n",
    "    result = []\n",
    "\n",
    "    for sentence in sentences:\n",
    "        words_in_sentence = sentence.split()\n",
    "        sentence_anagrams_count = 1 \n",
    "\n",
    "        for word in words_in_sentence:\n",
    "            if word in wordSet:\n",
    "                sentence_anagrams_count *= anagram_count[tuple(sorted(word))]\n",
    "\n",
    "        result.append(sentence_anagrams_count)\n",
    "\n",
    "    return result\n",
    "\n",
    "wordSet = ['the', 'bats', 'tabs', 'in', 'cat', 'act']\n",
    "sentences = ['cat the bats', 'in the act', 'act tabs in']\n",
    "\n",
    "countSentences(wordSet, sentences)\n"
   ]
  },
  {
   "cell_type": "code",
   "execution_count": 7,
   "metadata": {},
   "outputs": [
    {
     "name": "stdout",
     "output_type": "stream",
     "text": [
      "INVALID\n",
      "VALID,id,456,name,sam\n",
      "INVALID\n",
      "VALID,id,987,name,chris\n"
     ]
    }
   ],
   "source": [
    "def getResponses(valid_auth_tokens, requests):\n",
    "    def validate_token(token):\n",
    "        return token in valid_auth_tokens\n",
    "\n",
    "    def validate_csrf_token(csrf_token):\n",
    "        return csrf_token.isalnum() and len(csrf_token) >= 8\n",
    "\n",
    "    def parse_params(url):\n",
    "        params = url.split('?')[1]\n",
    "        params_list = params.split('&')\n",
    "        return {param.split('=')[0]: param.split('=')[1] for param in params_list}\n",
    "\n",
    "    def process_request(request):\n",
    "        request_type, url = request\n",
    "        params = parse_params(url)\n",
    "        auth_token = params.get('token', '')\n",
    "\n",
    "        if validate_token(auth_token):\n",
    "            if request_type == 'GET':\n",
    "                return {'status': 'VALID', 'params': params}\n",
    "            elif request_type == 'POST':\n",
    "                csrf_token = params.get('csrf', '')\n",
    "                if validate_csrf_token(csrf_token):\n",
    "                    return {'status': 'VALID', 'params': params}\n",
    "                else:\n",
    "                    return {'status': 'INVALID'}\n",
    "        return {'status': 'INVALID'}\n",
    "\n",
    "    responses = [process_request(request) for request in requests]\n",
    "    \n",
    "    for response in responses:\n",
    "        if response['status'] == 'VALID':\n",
    "            params = response['params']\n",
    "            id_value = params.get('id', '')\n",
    "            name_value = params.get('name', '')\n",
    "            print(f\"VALID,id,{id_value},name,{name_value}\")\n",
    "        else:\n",
    "            print(\"INVALID\")\n",
    "\n",
    "    return responses\n",
    "\n",
    "# Example Usage:\n",
    "valid_auth_tokens = [\"ah37j2ha483u\", \"safh34ywb0p5\", \"ba34wyi8t902\"]\n",
    "requests = [\n",
    "    [\"GET\", \"https://example.com/?token=347sd6yk8iu2&id=123&name=alex\"],\n",
    "    [\"GET\", \"https://example.com/?token=safh34ywb0p5&id=456&name=sam\"],\n",
    "    [\"POST\", \"https://example.com/?token=safh34ywb0p5&id=789&name=alex\"],\n",
    "    [\"POST\", \"https://example.com/?token=safh34ywb0p5&csrf=ak2sh32dy&id=987&name=chris\"]\n",
    "]\n",
    "\n",
    "responses = getResponses(valid_auth_tokens, requests)\n"
   ]
  },
  {
   "cell_type": "code",
   "execution_count": null,
   "metadata": {},
   "outputs": [],
   "source": []
  }
 ],
 "metadata": {
  "kernelspec": {
   "display_name": "Python 3",
   "language": "python",
   "name": "python3"
  },
  "language_info": {
   "codemirror_mode": {
    "name": "ipython",
    "version": 3
   },
   "file_extension": ".py",
   "mimetype": "text/x-python",
   "name": "python",
   "nbconvert_exporter": "python",
   "pygments_lexer": "ipython3",
   "version": "3.10.11"
  }
 },
 "nbformat": 4,
 "nbformat_minor": 2
}
