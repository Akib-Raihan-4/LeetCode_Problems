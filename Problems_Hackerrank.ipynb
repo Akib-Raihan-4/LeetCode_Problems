{
 "cells": [
  {
   "cell_type": "code",
   "execution_count": 22,
   "metadata": {},
   "outputs": [],
   "source": [
    "def staircase(n):\n",
    "    for i in range(1, n+1):\n",
    "        for j in range(n-i):\n",
    "            print(\" \", end=\"\")\n",
    "        k = i\n",
    "        for stair in range(k):\n",
    "            print(\"#\", end=\"\")\n",
    "        print('')\n",
    "        \n"
   ]
  },
  {
   "cell_type": "code",
   "execution_count": 23,
   "metadata": {},
   "outputs": [
    {
     "name": "stdout",
     "output_type": "stream",
     "text": [
      "     #\n",
      "    ##\n",
      "   ###\n",
      "  ####\n",
      " #####\n",
      "######\n"
     ]
    }
   ],
   "source": [
    "n = 6\n",
    "staircase(n)"
   ]
  },
  {
   "cell_type": "code",
   "execution_count": 28,
   "metadata": {},
   "outputs": [],
   "source": [
    "def breakingRecords(scores):\n",
    "    minScore = maxScore = scores[0]\n",
    "\n",
    "    min = max = 0\n",
    "\n",
    "    for i in range(len(scores)):\n",
    "        if scores[i] > maxScore:\n",
    "            max += 1\n",
    "            maxScore = scores[i]\n",
    "        elif scores[i] < minScore:\n",
    "            min += 1\n",
    "            minScore = scores[i]\n",
    "    \n",
    "    return [max, min]\n",
    "\n"
   ]
  },
  {
   "cell_type": "code",
   "execution_count": 29,
   "metadata": {},
   "outputs": [
    {
     "data": {
      "text/plain": [
       "[2, 4]"
      ]
     },
     "execution_count": 29,
     "metadata": {},
     "output_type": "execute_result"
    }
   ],
   "source": [
    "n = [10, 5, 20, 20, 4, 5, 2, 25, 1]\n",
    "breakingRecords(n)"
   ]
  },
  {
   "cell_type": "code",
   "execution_count": 32,
   "metadata": {},
   "outputs": [],
   "source": [
    "def plusMinus(arr):\n",
    "    pos = neg = zero = 0\n",
    "\n",
    "    for num in arr:\n",
    "        if num < 0:\n",
    "            neg += 1\n",
    "        elif num > 0:\n",
    "            pos += 1\n",
    "        else:\n",
    "            zero += 1\n",
    "    \n",
    "    pos_ratio = round(pos / len(arr), 6)\n",
    "    neg_ratio = round(neg / len(arr), 6)\n",
    "    zero_ratio = round(zero / len(arr), 6)\n",
    "    \n",
    "    print(pos_ratio)\n",
    "    print(neg_ratio)\n",
    "    print(zero_ratio)\n"
   ]
  },
  {
   "cell_type": "code",
   "execution_count": 33,
   "metadata": {},
   "outputs": [
    {
     "name": "stdout",
     "output_type": "stream",
     "text": [
      "0.5\n",
      "0.333333\n"
     ]
    }
   ],
   "source": [
    "arr = [-4, 3, -9, 0, 4, 1]\n",
    "plusMinus(arr)"
   ]
  },
  {
   "cell_type": "code",
   "execution_count": 34,
   "metadata": {},
   "outputs": [],
   "source": [
    "def compareTriplets(a,b):\n",
    "    alice_score = bob_score = 0\n",
    "\n",
    "    for i in range(3):\n",
    "        if a[i] > b[i]:\n",
    "            alice_score += 1\n",
    "        elif b[i] > a[i]:\n",
    "            bob_score += 1\n",
    "    return [alice_score, bob_score]"
   ]
  },
  {
   "cell_type": "code",
   "execution_count": 36,
   "metadata": {},
   "outputs": [
    {
     "data": {
      "text/plain": [
       "[1, 1]"
      ]
     },
     "execution_count": 36,
     "metadata": {},
     "output_type": "execute_result"
    }
   ],
   "source": [
    "a = [5,6,7]\n",
    "b = [3, 6, 10]\n",
    "compareTriplets(a,b)"
   ]
  },
  {
   "cell_type": "code",
   "execution_count": 39,
   "metadata": {},
   "outputs": [],
   "source": [
    "def birthdayCakeCandles(candles):\n",
    "    biggest_candle = max(candles)\n",
    "    count = 0\n",
    "    for candle in candles:\n",
    "        if candle == biggest_candle:\n",
    "            count += 1\n",
    "    return count"
   ]
  },
  {
   "cell_type": "code",
   "execution_count": 40,
   "metadata": {},
   "outputs": [
    {
     "data": {
      "text/plain": [
       "2"
      ]
     },
     "execution_count": 40,
     "metadata": {},
     "output_type": "execute_result"
    }
   ],
   "source": [
    "candles = [3,2,1,3]\n",
    "birthdayCakeCandles(candles)"
   ]
  },
  {
   "cell_type": "code",
   "execution_count": 47,
   "metadata": {},
   "outputs": [],
   "source": [
    "def gradingStudents(grades):\n",
    "    for i in range(len(grades)):\n",
    "        if grades[i] < 38:\n",
    "            continue\n",
    "        next_multiple_5 = ((grades[i] // 5 )+ 1) * 5\n",
    "        \n",
    "        if next_multiple_5 - grades[i] < 3:\n",
    "            grades[i] = next_multiple_5\n",
    "    return grades"
   ]
  },
  {
   "cell_type": "code",
   "execution_count": 48,
   "metadata": {},
   "outputs": [
    {
     "data": {
      "text/plain": [
       "[75, 67, 40, 33]"
      ]
     },
     "execution_count": 48,
     "metadata": {},
     "output_type": "execute_result"
    }
   ],
   "source": [
    "grades = [73, 67, 38,33]\n",
    "gradingStudents(grades)"
   ]
  },
  {
   "cell_type": "code",
   "execution_count": 70,
   "metadata": {},
   "outputs": [],
   "source": [
    "def diagonalDifference(arr):\n",
    "    left_right = 0\n",
    "    right_left = 0\n",
    "    for i in range(len(arr)):\n",
    "        for j in range(len(arr[0])):\n",
    "            if i == j:\n",
    "                left_right += arr[i][j]\n",
    "            if j == len(arr[0]) - 1 - i:\n",
    "                right_left += arr[i][j]\n",
    "\n",
    "    return abs(left_right - right_left)"
   ]
  },
  {
   "cell_type": "code",
   "execution_count": 71,
   "metadata": {},
   "outputs": [
    {
     "data": {
      "text/plain": [
       "15"
      ]
     },
     "execution_count": 71,
     "metadata": {},
     "output_type": "execute_result"
    }
   ],
   "source": [
    "arr = [[11, 2, 4],\n",
    "       [4, 5, 6],\n",
    "       [10, 8, -12]]\n",
    "\n",
    "diagonalDifference(arr)"
   ]
  },
  {
   "cell_type": "code",
   "execution_count": 86,
   "metadata": {},
   "outputs": [],
   "source": [
    "def taumBday(b, w, bc, wc, z):\n",
    "    min = b * bc + w * wc\n",
    "    \n",
    "    total = min\n",
    "    if wc > z and wc > bc:\n",
    "        total = b * bc + w * (bc+z)\n",
    "    elif bc > z and bc > wc:\n",
    "        total = b * (wc+z) + w * wc\n",
    "    \n",
    "    if total < min:\n",
    "        min = total\n",
    "    return min"
   ]
  },
  {
   "cell_type": "code",
   "execution_count": 88,
   "metadata": {},
   "outputs": [
    {
     "data": {
      "text/plain": [
       "20"
      ]
     },
     "execution_count": 88,
     "metadata": {},
     "output_type": "execute_result"
    }
   ],
   "source": [
    "b = 10\n",
    "w = 10\n",
    "bc = 1\n",
    "wc = 1\n",
    "z = 1\n",
    "\n",
    "taumBday(b, w, bc, wc, z)"
   ]
  },
  {
   "cell_type": "code",
   "execution_count": 111,
   "metadata": {},
   "outputs": [],
   "source": [
    "def minimumDistances(a):\n",
    "    last_seen_index = {}\n",
    "    min_distance = float('inf')\n",
    "\n",
    "    for i, value in enumerate(a):\n",
    "        if value in last_seen_index:\n",
    "            distance = i - last_seen_index[value]\n",
    "            if distance < min_distance:\n",
    "                min_distance = distance\n",
    "        last_seen_index[value] = i\n",
    "\n",
    "    if min_distance == float('inf'):\n",
    "        return -1\n",
    "    return min_distance\n"
   ]
  },
  {
   "cell_type": "code",
   "execution_count": 113,
   "metadata": {},
   "outputs": [
    {
     "data": {
      "text/plain": [
       "-1"
      ]
     },
     "execution_count": 113,
     "metadata": {},
     "output_type": "execute_result"
    }
   ],
   "source": [
    "arr = [1, 2, 3, 4, 10]\n",
    "minimumDistances(arr)"
   ]
  },
  {
   "cell_type": "code",
   "execution_count": 8,
   "metadata": {},
   "outputs": [],
   "source": [
    "def flatlandSpaceStations(n,c):\n",
    "    min_distances = []\n",
    "\n",
    "    for i in range(n):\n",
    "        min_distance = float('inf')\n",
    "        for spaceStation in c:\n",
    "            if abs(i-spaceStation) < min_distance:\n",
    "                min_distance = abs(i-spaceStation)\n",
    "        min_distances.append(min_distance)\n",
    "    return max(min_distances)"
   ]
  },
  {
   "cell_type": "code",
   "execution_count": 12,
   "metadata": {},
   "outputs": [
    {
     "data": {
      "text/plain": [
       "0"
      ]
     },
     "execution_count": 12,
     "metadata": {},
     "output_type": "execute_result"
    }
   ],
   "source": [
    "n = 6\n",
    "c = [0, 1, 2, 3, 4, 5]\n",
    "flatlandSpaceStations(n, c)"
   ]
  },
  {
   "cell_type": "code",
   "execution_count": 11,
   "metadata": {},
   "outputs": [],
   "source": [
    "def flatlandSpaceStations(n, c):\n",
    "    c.sort()\n",
    "    max_distance = 0\n",
    "    \n",
    "    max_distance = max(max_distance, c[0])\n",
    "\n",
    "    for i in range(1, len(c)):\n",
    "        max_distance = max(max_distance, (c[i] - c[i - 1]) // 2)\n",
    "\n",
    "    max_distance = max(max_distance, n - 1 - c[-1])\n",
    "\n",
    "    return max_distance\n",
    "\n"
   ]
  },
  {
   "cell_type": "code",
   "execution_count": null,
   "metadata": {},
   "outputs": [],
   "source": []
  }
 ],
 "metadata": {
  "kernelspec": {
   "display_name": "Python 3",
   "language": "python",
   "name": "python3"
  },
  "language_info": {
   "codemirror_mode": {
    "name": "ipython",
    "version": 3
   },
   "file_extension": ".py",
   "mimetype": "text/x-python",
   "name": "python",
   "nbconvert_exporter": "python",
   "pygments_lexer": "ipython3",
   "version": "3.10.11"
  }
 },
 "nbformat": 4,
 "nbformat_minor": 2
}
